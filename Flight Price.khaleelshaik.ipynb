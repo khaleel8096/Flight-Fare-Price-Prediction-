{
 "cells": [
  {
   "cell_type": "code",
   "execution_count": 1,
   "id": "f98b7747",
   "metadata": {},
   "outputs": [],
   "source": [
    "import pandas as pd\n",
    "import numpy as np\n",
    "import matplotlib.pyplot as plt\n",
    "import seaborn as sns\n",
    "import io\n",
    "from sklearn.preprocessing import LabelEncoder\n",
    "from sklearn.model_selection import train_test_split\n",
    "from sklearn.linear_model import LinearRegression\n",
    "from sklearn.tree import DecisionTreeRegressor\n",
    "from sklearn.ensemble import RandomForestRegressor\n",
    "from sklearn.ensemble import GradientBoostingRegressor\n",
    "from lightgbm import LGBMRegressor\n",
    "from xgboost import XGBRegressor\n",
    "from sklearn.model_selection import cross_val_score\n",
    "from sklearn.metrics import mean_squared_error, r2_score\n",
    "from sklearn.model_selection import GridSearchCV\n",
    "from sklearn.ensemble import ExtraTreesRegressor\n",
    "from math import sqrt"
   ]
  },
  {
   "cell_type": "code",
   "execution_count": 2,
   "id": "afc43b93",
   "metadata": {},
   "outputs": [
    {
     "name": "stdout",
     "output_type": "stream",
     "text": [
      "C:\\Users\\KHALEELBASHA\\Downloads\\1689160187876646d9a66c6079d03e398b6d5_\\ML Advanced Exam Paper\\Dataset\\Flight Price Dataset\n"
     ]
    }
   ],
   "source": [
    "%cd \"C:\\Users\\KHALEELBASHA\\Downloads\\1689160187876646d9a66c6079d03e398b6d5_\\ML Advanced Exam Paper\\Dataset\\Flight Price Dataset\""
   ]
  },
  {
   "cell_type": "code",
   "execution_count": 3,
   "id": "74af96f6",
   "metadata": {},
   "outputs": [],
   "source": [
    "flight=pd.read_excel(\"Flight_Price_Train.xlsx\")"
   ]
  },
  {
   "cell_type": "code",
   "execution_count": 4,
   "id": "15d9b376",
   "metadata": {},
   "outputs": [],
   "source": [
    "flight_test=pd.read_excel(\"Flight_Price_Test.xlsx\")"
   ]
  },
  {
   "cell_type": "code",
   "execution_count": 5,
   "id": "b319d30a",
   "metadata": {},
   "outputs": [
    {
     "name": "stdout",
     "output_type": "stream",
     "text": [
      "<class 'pandas.core.frame.DataFrame'>\n",
      "RangeIndex: 2671 entries, 0 to 2670\n",
      "Data columns (total 10 columns):\n",
      " #   Column           Non-Null Count  Dtype \n",
      "---  ------           --------------  ----- \n",
      " 0   Airline          2671 non-null   object\n",
      " 1   Date_of_Journey  2671 non-null   object\n",
      " 2   Source           2671 non-null   object\n",
      " 3   Destination      2671 non-null   object\n",
      " 4   Route            2671 non-null   object\n",
      " 5   Dep_Time         2671 non-null   object\n",
      " 6   Arrival_Time     2671 non-null   object\n",
      " 7   Duration         2671 non-null   object\n",
      " 8   Total_Stops      2671 non-null   object\n",
      " 9   Additional_Info  2671 non-null   object\n",
      "dtypes: object(10)\n",
      "memory usage: 208.8+ KB\n"
     ]
    }
   ],
   "source": [
    "flight_test.info()"
   ]
  },
  {
   "cell_type": "code",
   "execution_count": 6,
   "id": "0d2f3538",
   "metadata": {},
   "outputs": [
    {
     "name": "stdout",
     "output_type": "stream",
     "text": [
      "<class 'pandas.core.frame.DataFrame'>\n",
      "RangeIndex: 10683 entries, 0 to 10682\n",
      "Data columns (total 11 columns):\n",
      " #   Column           Non-Null Count  Dtype \n",
      "---  ------           --------------  ----- \n",
      " 0   Airline          10683 non-null  object\n",
      " 1   Date_of_Journey  10683 non-null  object\n",
      " 2   Source           10683 non-null  object\n",
      " 3   Destination      10683 non-null  object\n",
      " 4   Route            10682 non-null  object\n",
      " 5   Dep_Time         10683 non-null  object\n",
      " 6   Arrival_Time     10683 non-null  object\n",
      " 7   Duration         10683 non-null  object\n",
      " 8   Total_Stops      10682 non-null  object\n",
      " 9   Additional_Info  10683 non-null  object\n",
      " 10  Price            10683 non-null  int64 \n",
      "dtypes: int64(1), object(10)\n",
      "memory usage: 918.2+ KB\n"
     ]
    }
   ],
   "source": [
    "flight.info()"
   ]
  },
  {
   "cell_type": "code",
   "execution_count": 7,
   "id": "7eb0ec9a",
   "metadata": {},
   "outputs": [
    {
     "data": {
      "text/html": [
       "<div>\n",
       "<style scoped>\n",
       "    .dataframe tbody tr th:only-of-type {\n",
       "        vertical-align: middle;\n",
       "    }\n",
       "\n",
       "    .dataframe tbody tr th {\n",
       "        vertical-align: top;\n",
       "    }\n",
       "\n",
       "    .dataframe thead th {\n",
       "        text-align: right;\n",
       "    }\n",
       "</style>\n",
       "<table border=\"1\" class=\"dataframe\">\n",
       "  <thead>\n",
       "    <tr style=\"text-align: right;\">\n",
       "      <th></th>\n",
       "      <th>Airline</th>\n",
       "      <th>Date_of_Journey</th>\n",
       "      <th>Source</th>\n",
       "      <th>Destination</th>\n",
       "      <th>Route</th>\n",
       "      <th>Dep_Time</th>\n",
       "      <th>Arrival_Time</th>\n",
       "      <th>Duration</th>\n",
       "      <th>Total_Stops</th>\n",
       "      <th>Additional_Info</th>\n",
       "      <th>Price</th>\n",
       "    </tr>\n",
       "  </thead>\n",
       "  <tbody>\n",
       "    <tr>\n",
       "      <th>0</th>\n",
       "      <td>IndiGo</td>\n",
       "      <td>24/03/2019</td>\n",
       "      <td>Banglore</td>\n",
       "      <td>New Delhi</td>\n",
       "      <td>BLR → DEL</td>\n",
       "      <td>22:20</td>\n",
       "      <td>01:10 22 Mar</td>\n",
       "      <td>2h 50m</td>\n",
       "      <td>non-stop</td>\n",
       "      <td>No info</td>\n",
       "      <td>3897</td>\n",
       "    </tr>\n",
       "    <tr>\n",
       "      <th>1</th>\n",
       "      <td>Air India</td>\n",
       "      <td>1/05/2019</td>\n",
       "      <td>Kolkata</td>\n",
       "      <td>Banglore</td>\n",
       "      <td>CCU → IXR → BBI → BLR</td>\n",
       "      <td>05:50</td>\n",
       "      <td>13:15</td>\n",
       "      <td>7h 25m</td>\n",
       "      <td>2 stops</td>\n",
       "      <td>No info</td>\n",
       "      <td>7662</td>\n",
       "    </tr>\n",
       "    <tr>\n",
       "      <th>2</th>\n",
       "      <td>Jet Airways</td>\n",
       "      <td>9/06/2019</td>\n",
       "      <td>Delhi</td>\n",
       "      <td>Cochin</td>\n",
       "      <td>DEL → LKO → BOM → COK</td>\n",
       "      <td>09:25</td>\n",
       "      <td>04:25 10 Jun</td>\n",
       "      <td>19h</td>\n",
       "      <td>2 stops</td>\n",
       "      <td>No info</td>\n",
       "      <td>13882</td>\n",
       "    </tr>\n",
       "    <tr>\n",
       "      <th>3</th>\n",
       "      <td>IndiGo</td>\n",
       "      <td>12/05/2019</td>\n",
       "      <td>Kolkata</td>\n",
       "      <td>Banglore</td>\n",
       "      <td>CCU → NAG → BLR</td>\n",
       "      <td>18:05</td>\n",
       "      <td>23:30</td>\n",
       "      <td>5h 25m</td>\n",
       "      <td>1 stop</td>\n",
       "      <td>No info</td>\n",
       "      <td>6218</td>\n",
       "    </tr>\n",
       "    <tr>\n",
       "      <th>4</th>\n",
       "      <td>IndiGo</td>\n",
       "      <td>01/03/2019</td>\n",
       "      <td>Banglore</td>\n",
       "      <td>New Delhi</td>\n",
       "      <td>BLR → NAG → DEL</td>\n",
       "      <td>16:50</td>\n",
       "      <td>21:35</td>\n",
       "      <td>4h 45m</td>\n",
       "      <td>1 stop</td>\n",
       "      <td>No info</td>\n",
       "      <td>13302</td>\n",
       "    </tr>\n",
       "  </tbody>\n",
       "</table>\n",
       "</div>"
      ],
      "text/plain": [
       "       Airline Date_of_Journey    Source Destination                  Route  \\\n",
       "0       IndiGo      24/03/2019  Banglore   New Delhi              BLR → DEL   \n",
       "1    Air India       1/05/2019   Kolkata    Banglore  CCU → IXR → BBI → BLR   \n",
       "2  Jet Airways       9/06/2019     Delhi      Cochin  DEL → LKO → BOM → COK   \n",
       "3       IndiGo      12/05/2019   Kolkata    Banglore        CCU → NAG → BLR   \n",
       "4       IndiGo      01/03/2019  Banglore   New Delhi        BLR → NAG → DEL   \n",
       "\n",
       "  Dep_Time  Arrival_Time Duration Total_Stops Additional_Info  Price  \n",
       "0    22:20  01:10 22 Mar   2h 50m    non-stop         No info   3897  \n",
       "1    05:50         13:15   7h 25m     2 stops         No info   7662  \n",
       "2    09:25  04:25 10 Jun      19h     2 stops         No info  13882  \n",
       "3    18:05         23:30   5h 25m      1 stop         No info   6218  \n",
       "4    16:50         21:35   4h 45m      1 stop         No info  13302  "
      ]
     },
     "execution_count": 7,
     "metadata": {},
     "output_type": "execute_result"
    }
   ],
   "source": [
    "# Check top 5 records\n",
    "flight.head()"
   ]
  },
  {
   "cell_type": "code",
   "execution_count": 8,
   "id": "6b5e3e32",
   "metadata": {},
   "outputs": [
    {
     "data": {
      "text/html": [
       "<div>\n",
       "<style scoped>\n",
       "    .dataframe tbody tr th:only-of-type {\n",
       "        vertical-align: middle;\n",
       "    }\n",
       "\n",
       "    .dataframe tbody tr th {\n",
       "        vertical-align: top;\n",
       "    }\n",
       "\n",
       "    .dataframe thead th {\n",
       "        text-align: right;\n",
       "    }\n",
       "</style>\n",
       "<table border=\"1\" class=\"dataframe\">\n",
       "  <thead>\n",
       "    <tr style=\"text-align: right;\">\n",
       "      <th></th>\n",
       "      <th>Airline</th>\n",
       "      <th>Date_of_Journey</th>\n",
       "      <th>Source</th>\n",
       "      <th>Destination</th>\n",
       "      <th>Route</th>\n",
       "      <th>Dep_Time</th>\n",
       "      <th>Arrival_Time</th>\n",
       "      <th>Duration</th>\n",
       "      <th>Total_Stops</th>\n",
       "      <th>Additional_Info</th>\n",
       "    </tr>\n",
       "  </thead>\n",
       "  <tbody>\n",
       "    <tr>\n",
       "      <th>0</th>\n",
       "      <td>Jet Airways</td>\n",
       "      <td>6/06/2019</td>\n",
       "      <td>Delhi</td>\n",
       "      <td>Cochin</td>\n",
       "      <td>DEL → BOM → COK</td>\n",
       "      <td>17:30</td>\n",
       "      <td>04:25 07 Jun</td>\n",
       "      <td>10h 55m</td>\n",
       "      <td>1 stop</td>\n",
       "      <td>No info</td>\n",
       "    </tr>\n",
       "    <tr>\n",
       "      <th>1</th>\n",
       "      <td>IndiGo</td>\n",
       "      <td>12/05/2019</td>\n",
       "      <td>Kolkata</td>\n",
       "      <td>Banglore</td>\n",
       "      <td>CCU → MAA → BLR</td>\n",
       "      <td>06:20</td>\n",
       "      <td>10:20</td>\n",
       "      <td>4h</td>\n",
       "      <td>1 stop</td>\n",
       "      <td>No info</td>\n",
       "    </tr>\n",
       "    <tr>\n",
       "      <th>2</th>\n",
       "      <td>Jet Airways</td>\n",
       "      <td>21/05/2019</td>\n",
       "      <td>Delhi</td>\n",
       "      <td>Cochin</td>\n",
       "      <td>DEL → BOM → COK</td>\n",
       "      <td>19:15</td>\n",
       "      <td>19:00 22 May</td>\n",
       "      <td>23h 45m</td>\n",
       "      <td>1 stop</td>\n",
       "      <td>In-flight meal not included</td>\n",
       "    </tr>\n",
       "    <tr>\n",
       "      <th>3</th>\n",
       "      <td>Multiple carriers</td>\n",
       "      <td>21/05/2019</td>\n",
       "      <td>Delhi</td>\n",
       "      <td>Cochin</td>\n",
       "      <td>DEL → BOM → COK</td>\n",
       "      <td>08:00</td>\n",
       "      <td>21:00</td>\n",
       "      <td>13h</td>\n",
       "      <td>1 stop</td>\n",
       "      <td>No info</td>\n",
       "    </tr>\n",
       "    <tr>\n",
       "      <th>4</th>\n",
       "      <td>Air Asia</td>\n",
       "      <td>24/06/2019</td>\n",
       "      <td>Banglore</td>\n",
       "      <td>Delhi</td>\n",
       "      <td>BLR → DEL</td>\n",
       "      <td>23:55</td>\n",
       "      <td>02:45 25 Jun</td>\n",
       "      <td>2h 50m</td>\n",
       "      <td>non-stop</td>\n",
       "      <td>No info</td>\n",
       "    </tr>\n",
       "  </tbody>\n",
       "</table>\n",
       "</div>"
      ],
      "text/plain": [
       "             Airline Date_of_Journey    Source Destination            Route  \\\n",
       "0        Jet Airways       6/06/2019     Delhi      Cochin  DEL → BOM → COK   \n",
       "1             IndiGo      12/05/2019   Kolkata    Banglore  CCU → MAA → BLR   \n",
       "2        Jet Airways      21/05/2019     Delhi      Cochin  DEL → BOM → COK   \n",
       "3  Multiple carriers      21/05/2019     Delhi      Cochin  DEL → BOM → COK   \n",
       "4           Air Asia      24/06/2019  Banglore       Delhi        BLR → DEL   \n",
       "\n",
       "  Dep_Time  Arrival_Time Duration Total_Stops              Additional_Info  \n",
       "0    17:30  04:25 07 Jun  10h 55m      1 stop                      No info  \n",
       "1    06:20         10:20       4h      1 stop                      No info  \n",
       "2    19:15  19:00 22 May  23h 45m      1 stop  In-flight meal not included  \n",
       "3    08:00         21:00      13h      1 stop                      No info  \n",
       "4    23:55  02:45 25 Jun   2h 50m    non-stop                      No info  "
      ]
     },
     "execution_count": 8,
     "metadata": {},
     "output_type": "execute_result"
    }
   ],
   "source": [
    "# Check top 5 records\n",
    "flight_test.head()"
   ]
  },
  {
   "cell_type": "code",
   "execution_count": 9,
   "id": "61ca1b62",
   "metadata": {},
   "outputs": [
    {
     "name": "stdout",
     "output_type": "stream",
     "text": [
      "Shape: (2671, 10)\n"
     ]
    }
   ],
   "source": [
    "# Check shape\n",
    "print(\"Shape:\", flight_test.shape)"
   ]
  },
  {
   "cell_type": "code",
   "execution_count": 10,
   "id": "74bc5291",
   "metadata": {},
   "outputs": [
    {
     "name": "stdout",
     "output_type": "stream",
     "text": [
      "Shape: (10683, 11)\n"
     ]
    }
   ],
   "source": [
    "# Check shape\n",
    "print(\"Shape:\", flight.shape)"
   ]
  },
  {
   "cell_type": "code",
   "execution_count": 11,
   "id": "a72d04ef",
   "metadata": {},
   "outputs": [
    {
     "name": "stdout",
     "output_type": "stream",
     "text": [
      "Statistical Info:               Price\n",
      "count  10683.000000\n",
      "mean    9087.064121\n",
      "std     4611.359167\n",
      "min     1759.000000\n",
      "25%     5277.000000\n",
      "50%     8372.000000\n",
      "75%    12373.000000\n",
      "max    79512.000000\n"
     ]
    }
   ],
   "source": [
    "# Check statistical info\n",
    "print(\"Statistical Info:\", flight.describe())"
   ]
  },
  {
   "cell_type": "code",
   "execution_count": 12,
   "id": "a2de370a",
   "metadata": {},
   "outputs": [
    {
     "name": "stdout",
     "output_type": "stream",
     "text": [
      "                count unique              top  freq\n",
      "Airline          2671     11      Jet Airways   897\n",
      "Date_of_Journey  2671     44        9/05/2019   144\n",
      "Source           2671      5            Delhi  1145\n",
      "Destination      2671      6           Cochin  1145\n",
      "Route            2671    100  DEL → BOM → COK   624\n",
      "Dep_Time         2671    199            10:00    62\n",
      "Arrival_Time     2671    704            19:00   113\n",
      "Duration         2671    320           2h 50m   122\n",
      "Total_Stops      2671      5           1 stop  1431\n",
      "Additional_Info  2671      6          No info  2148\n"
     ]
    }
   ],
   "source": [
    "# Assuming your test data is stored in the variable flight_test\n",
    "statistical_info = flight_test.describe(include='all').transpose()\n",
    "print(statistical_info)\n"
   ]
  },
  {
   "cell_type": "code",
   "execution_count": 13,
   "id": "86056835",
   "metadata": {},
   "outputs": [
    {
     "name": "stdout",
     "output_type": "stream",
     "text": [
      "Duplicates: 220\n"
     ]
    }
   ],
   "source": [
    "# Check duplicates\n",
    "print(\"Duplicates:\", flight.duplicated().sum())"
   ]
  },
  {
   "cell_type": "code",
   "execution_count": 14,
   "id": "da37bee1",
   "metadata": {},
   "outputs": [
    {
     "name": "stdout",
     "output_type": "stream",
     "text": [
      "Duplicates: 26\n"
     ]
    }
   ],
   "source": [
    "# Check duplicates\n",
    "print(\"Duplicates:\", flight_test.duplicated().sum())"
   ]
  },
  {
   "cell_type": "code",
   "execution_count": 15,
   "id": "a14f62ef",
   "metadata": {
    "scrolled": true
   },
   "outputs": [
    {
     "name": "stdout",
     "output_type": "stream",
     "text": [
      "Null Values: Airline            0\n",
      "Date_of_Journey    0\n",
      "Source             0\n",
      "Destination        0\n",
      "Route              1\n",
      "Dep_Time           0\n",
      "Arrival_Time       0\n",
      "Duration           0\n",
      "Total_Stops        1\n",
      "Additional_Info    0\n",
      "Price              0\n",
      "dtype: int64\n"
     ]
    }
   ],
   "source": [
    "# Check null values\n",
    "print(\"Null Values:\", flight.isnull().sum())"
   ]
  },
  {
   "cell_type": "code",
   "execution_count": 16,
   "id": "97e3530e",
   "metadata": {},
   "outputs": [
    {
     "name": "stdout",
     "output_type": "stream",
     "text": [
      "Null Values: Airline            0\n",
      "Date_of_Journey    0\n",
      "Source             0\n",
      "Destination        0\n",
      "Route              0\n",
      "Dep_Time           0\n",
      "Arrival_Time       0\n",
      "Duration           0\n",
      "Total_Stops        0\n",
      "Additional_Info    0\n",
      "dtype: int64\n"
     ]
    }
   ],
   "source": [
    "# Check null values\n",
    "print(\"Null Values:\", flight_test.isnull().sum())"
   ]
  },
  {
   "cell_type": "code",
   "execution_count": 17,
   "id": "810fa4c4",
   "metadata": {},
   "outputs": [],
   "source": [
    "flight.dropna(inplace= True)"
   ]
  },
  {
   "cell_type": "code",
   "execution_count": 18,
   "id": "509bc31b",
   "metadata": {},
   "outputs": [
    {
     "name": "stderr",
     "output_type": "stream",
     "text": [
      "C:\\Users\\KHALEELBASHA\\AppData\\Local\\Temp\\ipykernel_6640\\627105402.py:2: UserWarning: Parsing dates in DD/MM/YYYY format when dayfirst=False (the default) was specified. This may lead to inconsistently parsed dates! Specify a format to ensure consistent parsing.\n",
      "  flight['Date_of_Journey'] = pd.to_datetime(flight['Date_of_Journey'])\n"
     ]
    }
   ],
   "source": [
    "# Convert 'Date_of_Journey' to datetime\n",
    "flight['Date_of_Journey'] = pd.to_datetime(flight['Date_of_Journey'])"
   ]
  },
  {
   "cell_type": "code",
   "execution_count": 19,
   "id": "7df0fe98",
   "metadata": {},
   "outputs": [],
   "source": [
    "# Extract Date, Month, Year\n",
    "flight['Journey_Date'] = flight['Date_of_Journey'].dt.day\n",
    "flight['Journey_Month'] = flight['Date_of_Journey'].dt.month\n",
    "flight['Journey_Year'] = flight['Date_of_Journey'].dt.year"
   ]
  },
  {
   "cell_type": "code",
   "execution_count": 20,
   "id": "91a34a0d",
   "metadata": {},
   "outputs": [],
   "source": [
    "# Extract 'Departure_Hour' and 'Departure_Minute' from 'Dep_Time'\n",
    "flight[\"Dep_hour\"] = pd.to_datetime(flight[\"Dep_Time\"]).dt.hour\n",
    "flight[\"Dep_min\"] = pd.to_datetime(flight[\"Dep_Time\"]).dt.minute\n",
    "flight.drop([\"Dep_Time\"], axis=1, inplace=True)"
   ]
  },
  {
   "cell_type": "code",
   "execution_count": 21,
   "id": "26051bae",
   "metadata": {},
   "outputs": [],
   "source": [
    "# Extract 'Arrival_Hour' and 'Arrival_Minute' from 'Arrival_Time'\n",
    "flight[\"Arrival_hour\"] = pd.to_datetime(flight[\"Arrival_Time\"]).dt.hour\n",
    "flight[\"Arrival_min\"] = pd.to_datetime(flight[\"Arrival_Time\"]).dt.minute\n",
    "flight.drop([\"Arrival_Time\"], axis=1, inplace=True)"
   ]
  },
  {
   "cell_type": "code",
   "execution_count": 22,
   "id": "70ddbec6",
   "metadata": {},
   "outputs": [],
   "source": [
    "def get_duration(x):\n",
    "    x = x.split(' ')\n",
    "    hours = 0\n",
    "    mins = 0\n",
    "    if len(x) == 1:\n",
    "        x = x[0]\n",
    "        if x[-1] == 'h':\n",
    "            hours = int(x[:-1])\n",
    "        else:\n",
    "            mins = int(x[:-1])\n",
    "    else:\n",
    "        hours = int(x[0][:-1])\n",
    "        mins = int(x[1][:-1])\n",
    "    return hours, mins\n",
    "\n",
    "flight['Duration_hours'] = flight['Duration'].apply(lambda x: get_duration(x)[0])\n",
    "flight['Duration_mins'] = flight['Duration'].apply(lambda x: get_duration(x)[1])\n",
    "flight.drop([\"Duration\"], axis=1, inplace=True)"
   ]
  },
  {
   "cell_type": "code",
   "execution_count": 23,
   "id": "df6258aa",
   "metadata": {},
   "outputs": [
    {
     "name": "stderr",
     "output_type": "stream",
     "text": [
      "C:\\Users\\KHALEELBASHA\\AppData\\Local\\Temp\\ipykernel_6640\\3137277655.py:2: UserWarning: Parsing dates in DD/MM/YYYY format when dayfirst=False (the default) was specified. This may lead to inconsistently parsed dates! Specify a format to ensure consistent parsing.\n",
      "  flight_test['Date_of_Journey'] = pd.to_datetime(flight_test['Date_of_Journey'])\n"
     ]
    }
   ],
   "source": [
    "# Convert 'Date_of_Journey' to datetime\n",
    "flight_test['Date_of_Journey'] = pd.to_datetime(flight_test['Date_of_Journey'])\n",
    "# Extract Date, Month, Year\n",
    "flight_test['Journey_Date'] = flight_test['Date_of_Journey'].dt.day\n",
    "flight_test['Journey_Month'] = flight_test['Date_of_Journey'].dt.month\n",
    "flight_test['Journey_Year'] = flight_test['Date_of_Journey'].dt.year\n",
    "# Extract 'Departure_Hour' and 'Departure_Minute' from 'Dep_Time'\n",
    "flight_test[\"Dep_hour\"] = pd.to_datetime(flight_test[\"Dep_Time\"]).dt.hour\n",
    "flight_test[\"Dep_min\"] = pd.to_datetime(flight_test[\"Dep_Time\"]).dt.minute\n",
    "flight_test.drop([\"Dep_Time\"], axis=1, inplace=True)\n",
    "# Extract 'Arrival_Hour' and 'Arrival_Minute' from 'Arrival_Time'\n",
    "flight_test[\"Arrival_hour\"] = pd.to_datetime(flight_test[\"Arrival_Time\"]).dt.hour\n",
    "flight_test[\"Arrival_min\"] = pd.to_datetime(flight_test[\"Arrival_Time\"]).dt.minute\n",
    "flight_test.drop([\"Arrival_Time\"], axis=1, inplace=True)\n",
    "def get_duration(x):\n",
    "    x = x.split(' ')\n",
    "    hours = 0\n",
    "    mins = 0\n",
    "    if len(x) == 1:\n",
    "        x = x[0]\n",
    "        if x[-1] == 'h':\n",
    "            hours = int(x[:-1])\n",
    "        else:\n",
    "            mins = int(x[:-1])\n",
    "    else:\n",
    "        hours = int(x[0][:-1])\n",
    "        mins = int(x[1][:-1])\n",
    "    return hours, mins\n",
    "\n",
    "flight_test['Duration_hours'] = flight_test['Duration'].apply(lambda x: get_duration(x)[0])\n",
    "flight_test['Duration_mins'] = flight_test['Duration'].apply(lambda x: get_duration(x)[1])\n",
    "flight_test.drop([\"Duration\"], axis=1, inplace=True)"
   ]
  },
  {
   "cell_type": "code",
   "execution_count": 24,
   "id": "e22c4491",
   "metadata": {},
   "outputs": [
    {
     "data": {
      "text/html": [
       "<div>\n",
       "<style scoped>\n",
       "    .dataframe tbody tr th:only-of-type {\n",
       "        vertical-align: middle;\n",
       "    }\n",
       "\n",
       "    .dataframe tbody tr th {\n",
       "        vertical-align: top;\n",
       "    }\n",
       "\n",
       "    .dataframe thead th {\n",
       "        text-align: right;\n",
       "    }\n",
       "</style>\n",
       "<table border=\"1\" class=\"dataframe\">\n",
       "  <thead>\n",
       "    <tr style=\"text-align: right;\">\n",
       "      <th></th>\n",
       "      <th>Airline</th>\n",
       "      <th>Date_of_Journey</th>\n",
       "      <th>Source</th>\n",
       "      <th>Destination</th>\n",
       "      <th>Route</th>\n",
       "      <th>Total_Stops</th>\n",
       "      <th>Additional_Info</th>\n",
       "      <th>Price</th>\n",
       "      <th>Journey_Date</th>\n",
       "      <th>Journey_Month</th>\n",
       "      <th>Journey_Year</th>\n",
       "      <th>Dep_hour</th>\n",
       "      <th>Dep_min</th>\n",
       "      <th>Arrival_hour</th>\n",
       "      <th>Arrival_min</th>\n",
       "      <th>Duration_hours</th>\n",
       "      <th>Duration_mins</th>\n",
       "    </tr>\n",
       "  </thead>\n",
       "  <tbody>\n",
       "    <tr>\n",
       "      <th>0</th>\n",
       "      <td>IndiGo</td>\n",
       "      <td>2019-03-24</td>\n",
       "      <td>Banglore</td>\n",
       "      <td>New Delhi</td>\n",
       "      <td>BLR → DEL</td>\n",
       "      <td>non-stop</td>\n",
       "      <td>No info</td>\n",
       "      <td>3897</td>\n",
       "      <td>24</td>\n",
       "      <td>3</td>\n",
       "      <td>2019</td>\n",
       "      <td>22</td>\n",
       "      <td>20</td>\n",
       "      <td>1</td>\n",
       "      <td>10</td>\n",
       "      <td>2</td>\n",
       "      <td>50</td>\n",
       "    </tr>\n",
       "    <tr>\n",
       "      <th>1</th>\n",
       "      <td>Air India</td>\n",
       "      <td>2019-01-05</td>\n",
       "      <td>Kolkata</td>\n",
       "      <td>Banglore</td>\n",
       "      <td>CCU → IXR → BBI → BLR</td>\n",
       "      <td>2 stops</td>\n",
       "      <td>No info</td>\n",
       "      <td>7662</td>\n",
       "      <td>5</td>\n",
       "      <td>1</td>\n",
       "      <td>2019</td>\n",
       "      <td>5</td>\n",
       "      <td>50</td>\n",
       "      <td>13</td>\n",
       "      <td>15</td>\n",
       "      <td>7</td>\n",
       "      <td>25</td>\n",
       "    </tr>\n",
       "    <tr>\n",
       "      <th>2</th>\n",
       "      <td>Jet Airways</td>\n",
       "      <td>2019-09-06</td>\n",
       "      <td>Delhi</td>\n",
       "      <td>Cochin</td>\n",
       "      <td>DEL → LKO → BOM → COK</td>\n",
       "      <td>2 stops</td>\n",
       "      <td>No info</td>\n",
       "      <td>13882</td>\n",
       "      <td>6</td>\n",
       "      <td>9</td>\n",
       "      <td>2019</td>\n",
       "      <td>9</td>\n",
       "      <td>25</td>\n",
       "      <td>4</td>\n",
       "      <td>25</td>\n",
       "      <td>19</td>\n",
       "      <td>0</td>\n",
       "    </tr>\n",
       "    <tr>\n",
       "      <th>3</th>\n",
       "      <td>IndiGo</td>\n",
       "      <td>2019-12-05</td>\n",
       "      <td>Kolkata</td>\n",
       "      <td>Banglore</td>\n",
       "      <td>CCU → NAG → BLR</td>\n",
       "      <td>1 stop</td>\n",
       "      <td>No info</td>\n",
       "      <td>6218</td>\n",
       "      <td>5</td>\n",
       "      <td>12</td>\n",
       "      <td>2019</td>\n",
       "      <td>18</td>\n",
       "      <td>5</td>\n",
       "      <td>23</td>\n",
       "      <td>30</td>\n",
       "      <td>5</td>\n",
       "      <td>25</td>\n",
       "    </tr>\n",
       "    <tr>\n",
       "      <th>4</th>\n",
       "      <td>IndiGo</td>\n",
       "      <td>2019-01-03</td>\n",
       "      <td>Banglore</td>\n",
       "      <td>New Delhi</td>\n",
       "      <td>BLR → NAG → DEL</td>\n",
       "      <td>1 stop</td>\n",
       "      <td>No info</td>\n",
       "      <td>13302</td>\n",
       "      <td>3</td>\n",
       "      <td>1</td>\n",
       "      <td>2019</td>\n",
       "      <td>16</td>\n",
       "      <td>50</td>\n",
       "      <td>21</td>\n",
       "      <td>35</td>\n",
       "      <td>4</td>\n",
       "      <td>45</td>\n",
       "    </tr>\n",
       "  </tbody>\n",
       "</table>\n",
       "</div>"
      ],
      "text/plain": [
       "       Airline Date_of_Journey    Source Destination                  Route  \\\n",
       "0       IndiGo      2019-03-24  Banglore   New Delhi              BLR → DEL   \n",
       "1    Air India      2019-01-05   Kolkata    Banglore  CCU → IXR → BBI → BLR   \n",
       "2  Jet Airways      2019-09-06     Delhi      Cochin  DEL → LKO → BOM → COK   \n",
       "3       IndiGo      2019-12-05   Kolkata    Banglore        CCU → NAG → BLR   \n",
       "4       IndiGo      2019-01-03  Banglore   New Delhi        BLR → NAG → DEL   \n",
       "\n",
       "  Total_Stops Additional_Info  Price  Journey_Date  Journey_Month  \\\n",
       "0    non-stop         No info   3897            24              3   \n",
       "1     2 stops         No info   7662             5              1   \n",
       "2     2 stops         No info  13882             6              9   \n",
       "3      1 stop         No info   6218             5             12   \n",
       "4      1 stop         No info  13302             3              1   \n",
       "\n",
       "   Journey_Year  Dep_hour  Dep_min  Arrival_hour  Arrival_min  Duration_hours  \\\n",
       "0          2019        22       20             1           10               2   \n",
       "1          2019         5       50            13           15               7   \n",
       "2          2019         9       25             4           25              19   \n",
       "3          2019        18        5            23           30               5   \n",
       "4          2019        16       50            21           35               4   \n",
       "\n",
       "   Duration_mins  \n",
       "0             50  \n",
       "1             25  \n",
       "2              0  \n",
       "3             25  \n",
       "4             45  "
      ]
     },
     "execution_count": 24,
     "metadata": {},
     "output_type": "execute_result"
    }
   ],
   "source": [
    "# Display the updated dataset\n",
    "flight.head()"
   ]
  },
  {
   "cell_type": "code",
   "execution_count": 25,
   "id": "88a49455",
   "metadata": {},
   "outputs": [
    {
     "name": "stdout",
     "output_type": "stream",
     "text": [
      "Most Preferred Airline: Jet Airways\n"
     ]
    }
   ],
   "source": [
    "# Check the most preferred airline\n",
    "preferred_airline = flight['Airline'].value_counts().idxmax()\n",
    "print(\"Most Preferred Airline:\", preferred_airline)"
   ]
  },
  {
   "cell_type": "code",
   "execution_count": 26,
   "id": "ba7ec37c",
   "metadata": {},
   "outputs": [
    {
     "name": "stdout",
     "output_type": "stream",
     "text": [
      "Most Preferred Airline: Jet Airways\n"
     ]
    }
   ],
   "source": [
    "# Check the most preferred airline for test data\n",
    "preferred_airline = flight_test['Airline'].value_counts().idxmax()\n",
    "print(\"Most Preferred Airline:\", preferred_airline)"
   ]
  },
  {
   "cell_type": "code",
   "execution_count": 27,
   "id": "8a49a9f8",
   "metadata": {},
   "outputs": [
    {
     "data": {
      "image/png": "[encoded data removed]",
      "text/plain": [
       "<Figure size 1200x600 with 1 Axes>"
      ]
     },
     "metadata": {},
     "output_type": "display_data"
    }
   ],
   "source": [
    "# Plot the distribution of airlines\n",
    "plt.figure(figsize=(12, 6))\n",
    "sns.countplot(x='Airline', data=flight, order=flight['Airline'].value_counts().index)\n",
    "plt.title('Distribution of Airlines')\n",
    "plt.xlabel('Airline')\n",
    "plt.ylabel('Count')\n",
    "plt.xticks(rotation=45)\n",
    "plt.show()"
   ]
  },
  {
   "cell_type": "code",
   "execution_count": 28,
   "id": "704d158e",
   "metadata": {},
   "outputs": [
    {
     "data": {
      "image/png": "[encoded data removed]",
      "text/plain": [
       "<Figure size 1200x600 with 1 Axes>"
      ]
     },
     "metadata": {},
     "output_type": "display_data"
    }
   ],
   "source": [
    "# Plot the distribution of airlines of test\n",
    "plt.figure(figsize=(12, 6))\n",
    "sns.countplot(x='Airline', data=flight_test, order=flight_test['Airline'].value_counts().index)\n",
    "plt.title('Distribution of Airlines')\n",
    "plt.xlabel('Airline')\n",
    "plt.ylabel('Count')\n",
    "plt.xticks(rotation=45)\n",
    "plt.show()"
   ]
  },
  {
   "cell_type": "code",
   "execution_count": 29,
   "id": "ce656559",
   "metadata": {},
   "outputs": [
    {
     "name": "stdout",
     "output_type": "stream",
     "text": [
      "Majority of Flights Take Off Source: Delhi\n"
     ]
    }
   ],
   "source": [
    "# Find the majority of flights take off from which source\n",
    "majority_source = flight['Source'].value_counts().idxmax()\n",
    "print(\"Majority of Flights Take Off Source:\", majority_source)"
   ]
  },
  {
   "cell_type": "code",
   "execution_count": 30,
   "id": "4c8fd3ee",
   "metadata": {},
   "outputs": [
    {
     "name": "stdout",
     "output_type": "stream",
     "text": [
      "Majority of Flights Take Off Source: Delhi\n"
     ]
    }
   ],
   "source": [
    "# Find the majority of flights take off from which source of test\n",
    "majority_source = flight_test['Source'].value_counts().idxmax()\n",
    "print(\"Majority of Flights Take Off Source:\", majority_source)"
   ]
  },
  {
   "cell_type": "code",
   "execution_count": 31,
   "id": "60fbcb4d",
   "metadata": {},
   "outputs": [
    {
     "data": {
      "image/png": "[encoded data removed]",
      "text/plain": [
       "<Figure size 800x600 with 1 Axes>"
      ]
     },
     "metadata": {},
     "output_type": "display_data"
    }
   ],
   "source": [
    "# Plot the distribution of sources\n",
    "plt.figure(figsize=(8, 6))\n",
    "sns.countplot(x='Source', data=flight, order=flight['Source'].value_counts().index)\n",
    "plt.title('Distribution of Take Off Sources')\n",
    "plt.xlabel('Source')\n",
    "plt.ylabel('Count')\n",
    "plt.show()"
   ]
  },
  {
   "cell_type": "code",
   "execution_count": 32,
   "id": "44c1e9b6",
   "metadata": {},
   "outputs": [
    {
     "name": "stdout",
     "output_type": "stream",
     "text": [
      "Maximum Flights Land in Destination: Cochin\n"
     ]
    }
   ],
   "source": [
    "# Find the destination where maximum flights land\n",
    "max_land_destination = flight['Destination'].value_counts().idxmax()\n",
    "print(\"Maximum Flights Land in Destination:\", max_land_destination)"
   ]
  },
  {
   "cell_type": "code",
   "execution_count": 33,
   "id": "068961f5",
   "metadata": {},
   "outputs": [
    {
     "data": {
      "image/png": "[encoded data removed]",
      "text/plain": [
       "<Figure size 800x600 with 1 Axes>"
      ]
     },
     "metadata": {},
     "output_type": "display_data"
    }
   ],
   "source": [
    "# Plot the distribution of destinations\n",
    "plt.figure(figsize=(8, 6))\n",
    "sns.countplot(x='Destination', data=flight, order=flight['Destination'].value_counts().index)\n",
    "plt.title('Distribution of Flight Destinations')\n",
    "plt.xlabel('Destination')\n",
    "plt.ylabel('Count')\n",
    "plt.show()"
   ]
  },
  {
   "cell_type": "code",
   "execution_count": 34,
   "id": "272e54a3",
   "metadata": {},
   "outputs": [
    {
     "name": "stdout",
     "output_type": "stream",
     "text": [
      "The airline with the highest price is Jet Airways Business with a price of 79512.\n"
     ]
    }
   ],
   "source": [
    "# Find the airline with the highest price\n",
    "highest_price_airline = flight.loc[flight['Price'].idxmax()]['Airline']\n",
    "highest_price = flight['Price'].max()\n",
    "print(f\"The airline with the highest price is {highest_price_airline} with a price of {highest_price}.\")"
   ]
  },
  {
   "cell_type": "code",
   "execution_count": 35,
   "id": "d2091d6e",
   "metadata": {},
   "outputs": [
    {
     "name": "stdout",
     "output_type": "stream",
     "text": [
      "Number of business class flights with price > 50k: 3\n"
     ]
    }
   ],
   "source": [
    "# Check if business class flights are high price or low (Price > 50k)\n",
    "business_class_flights = flight[flight['Additional_Info'].str.contains('Business', case=False)]\n",
    "high_price_business_class_flights = business_class_flights[business_class_flights['Price'] > 50000]\n",
    "print(\"Number of business class flights with price > 50k:\", len(high_price_business_class_flights))"
   ]
  },
  {
   "cell_type": "code",
   "execution_count": 36,
   "id": "7836b784",
   "metadata": {},
   "outputs": [
    {
     "data": {
      "image/png": "[encoded data removed]",
      "text/plain": [
       "<Figure size 1800x600 with 1 Axes>"
      ]
     },
     "metadata": {},
     "output_type": "display_data"
    }
   ],
   "source": [
    "# Visualization: Airline vs. Price using boxen plot\n",
    "sns.set()\n",
    "sns.catplot(y=\"Price\", x=\"Airline\", data=flight.sort_values(\"Price\", ascending=False), kind=\"boxen\", height=6, aspect=3)\n",
    "plt.show()"
   ]
  },
  {
   "cell_type": "code",
   "execution_count": 37,
   "id": "8aef40ff",
   "metadata": {},
   "outputs": [],
   "source": [
    "# One-hot encoding for the \"Airline\" variable\n",
    "Airline = flight[[\"Airline\"]]\n",
    "Airline = pd.get_dummies(Airline, drop_first=True)"
   ]
  },
  {
   "cell_type": "code",
   "execution_count": 38,
   "id": "8c666b97",
   "metadata": {},
   "outputs": [],
   "source": [
    "# One-hot encoding for the \"Source\" variable\n",
    "Source = flight[[\"Source\"]]\n",
    "Source = pd.get_dummies(Source, drop_first=True)"
   ]
  },
  {
   "cell_type": "code",
   "execution_count": 39,
   "id": "bc1aaf62",
   "metadata": {},
   "outputs": [],
   "source": [
    "# One-hot encoding for the \"Destination\" variable\n",
    "Destination = flight[[\"Destination\"]]\n",
    "Destination = pd.get_dummies(Destination, drop_first=True)"
   ]
  },
  {
   "cell_type": "code",
   "execution_count": 40,
   "id": "5b0c4e6d",
   "metadata": {},
   "outputs": [],
   "source": [
    "# Handle repeated values in the \"Additional_Info\" variable\n",
    "flight['Additional_Info'].replace({\"No info\": 'No Info'}, inplace=True)"
   ]
  },
  {
   "cell_type": "code",
   "execution_count": 41,
   "id": "f5411709",
   "metadata": {},
   "outputs": [],
   "source": [
    "# Label encoding for the \"Total_Stops\" variable\n",
    "flight.replace({\"non-stop\": 0, \"1 stop\": 1, \"2 stops\": 2, \"3 stops\": 3, \"4 stops\": 4}, inplace=True)"
   ]
  },
  {
   "cell_type": "code",
   "execution_count": 42,
   "id": "97a25195",
   "metadata": {},
   "outputs": [],
   "source": [
    "# One-hot encoding for the \"Additional_Info\" variable\n",
    "Add_info = flight[[\"Additional_Info\"]]\n",
    "Add_info = pd.get_dummies(Add_info, drop_first=True)"
   ]
  },
  {
   "cell_type": "code",
   "execution_count": 43,
   "id": "361447b9",
   "metadata": {},
   "outputs": [],
   "source": [
    "# Create the final flight by concatenating encoded features\n",
    "flight = pd.concat([flight, Airline, Source, Destination, Add_info], axis=1)"
   ]
  },
  {
   "cell_type": "code",
   "execution_count": 44,
   "id": "eb4e43f4",
   "metadata": {},
   "outputs": [],
   "source": [
    "# Drop unnecessary variables (\"Route\" and \"Additional_Info\")\n",
    "flight.drop([\"Route\", \"Additional_Info\"], axis=1, inplace=True)"
   ]
  },
  {
   "cell_type": "code",
   "execution_count": 45,
   "id": "5726ed87",
   "metadata": {},
   "outputs": [],
   "source": [
    "# Drop original categorical variables\n",
    "flight.drop([\"Airline\", \"Source\", \"Destination\"], axis=1, inplace=True)"
   ]
  },
  {
   "cell_type": "code",
   "execution_count": 46,
   "id": "ff56a5e5",
   "metadata": {},
   "outputs": [
    {
     "name": "stdout",
     "output_type": "stream",
     "text": [
      "40\n"
     ]
    }
   ],
   "source": [
    "# Display the number of final variables\n",
    "print(flight.shape[1])"
   ]
  },
  {
   "cell_type": "code",
   "execution_count": 47,
   "id": "a43dd493",
   "metadata": {},
   "outputs": [],
   "source": [
    "# One-hot encoding for the \"Airline\" variable in flight_test\n",
    "Airline_test = flight_test[[\"Airline\"]]\n",
    "Airline_test = pd.get_dummies(Airline_test, drop_first=True)"
   ]
  },
  {
   "cell_type": "code",
   "execution_count": 48,
   "id": "118294fc",
   "metadata": {},
   "outputs": [],
   "source": [
    "# One-hot encoding for the \"Source\" variable in flight_test\n",
    "Source_test = flight_test[[\"Source\"]]\n",
    "Source_test = pd.get_dummies(Source_test, drop_first=True)"
   ]
  },
  {
   "cell_type": "code",
   "execution_count": 49,
   "id": "8e99d2d0",
   "metadata": {},
   "outputs": [],
   "source": [
    "# One-hot encoding for the \"Destination\" variable in flight_test\n",
    "Destination_test = flight_test[[\"Destination\"]]\n",
    "Destination_test = pd.get_dummies(Destination_test, drop_first=True)"
   ]
  },
  {
   "cell_type": "code",
   "execution_count": 50,
   "id": "b0f7523d",
   "metadata": {},
   "outputs": [],
   "source": [
    "# Handle repeated values in the \"Additional_Info\" variable in flight_test\n",
    "flight_test['Additional_Info'].replace({\"No info\": 'No Info'}, inplace=True)"
   ]
  },
  {
   "cell_type": "code",
   "execution_count": 51,
   "id": "55668162",
   "metadata": {},
   "outputs": [],
   "source": [
    "# Label encoding for the \"Total_Stops\" variable in flight_test\n",
    "flight_test.replace({\"non-stop\": 0, \"1 stop\": 1, \"2 stops\": 2, \"3 stops\": 3, \"4 stops\": 4}, inplace=True)"
   ]
  },
  {
   "cell_type": "code",
   "execution_count": 52,
   "id": "e803ab9b",
   "metadata": {},
   "outputs": [],
   "source": [
    "# One-hot encoding for the \"Additional_Info\" variable in flight_test\n",
    "Add_info_test = flight_test[[\"Additional_Info\"]]\n",
    "Add_info_test = pd.get_dummies(Add_info_test, drop_first=True)"
   ]
  },
  {
   "cell_type": "code",
   "execution_count": 53,
   "id": "6ae818b1",
   "metadata": {},
   "outputs": [],
   "source": [
    "# Create the final flight_test by concatenating encoded features\n",
    "flight_test = pd.concat([flight_test, Airline_test, Source_test, Destination_test, Add_info_test], axis=1)"
   ]
  },
  {
   "cell_type": "code",
   "execution_count": 54,
   "id": "0108a29f",
   "metadata": {},
   "outputs": [],
   "source": [
    "# Drop unnecessary variables (\"Route\" and \"Additional_Info\") in flight_test\n",
    "flight_test.drop([\"Route\", \"Additional_Info\"], axis=1, inplace=True)"
   ]
  },
  {
   "cell_type": "code",
   "execution_count": 55,
   "id": "429f8009",
   "metadata": {},
   "outputs": [],
   "source": [
    "# Drop original categorical variables in flight_test\n",
    "flight_test.drop([\"Airline\", \"Source\", \"Destination\"], axis=1, inplace=True)"
   ]
  },
  {
   "cell_type": "code",
   "execution_count": 56,
   "id": "be9afca8",
   "metadata": {},
   "outputs": [
    {
     "name": "stdout",
     "output_type": "stream",
     "text": [
      "35\n"
     ]
    }
   ],
   "source": [
    "# Display the number of final variables in flight_test\n",
    "print(flight_test.shape[1])"
   ]
  },
  {
   "cell_type": "code",
   "execution_count": 57,
   "id": "14c8f159",
   "metadata": {},
   "outputs": [],
   "source": [
    "# Convert 'Date_of_Journey' to timestamps (int64)\n",
    "flight['Date_of_Journey'] = flight['Date_of_Journey'].astype('int64')"
   ]
  },
  {
   "cell_type": "code",
   "execution_count": 58,
   "id": "184c5c1b",
   "metadata": {},
   "outputs": [
    {
     "name": "stdout",
     "output_type": "stream",
     "text": [
      "Date_of_Journey                                 int64\n",
      "Total_Stops                                     int64\n",
      "Price                                           int64\n",
      "Journey_Date                                    int64\n",
      "Journey_Month                                   int64\n",
      "Journey_Year                                    int64\n",
      "Dep_hour                                        int64\n",
      "Dep_min                                         int64\n",
      "Arrival_hour                                    int64\n",
      "Arrival_min                                     int64\n",
      "Duration_hours                                  int64\n",
      "Duration_mins                                   int64\n",
      "Airline_Air India                               uint8\n",
      "Airline_GoAir                                   uint8\n",
      "Airline_IndiGo                                  uint8\n",
      "Airline_Jet Airways                             uint8\n",
      "Airline_Jet Airways Business                    uint8\n",
      "Airline_Multiple carriers                       uint8\n",
      "Airline_Multiple carriers Premium economy       uint8\n",
      "Airline_SpiceJet                                uint8\n",
      "Airline_Trujet                                  uint8\n",
      "Airline_Vistara                                 uint8\n",
      "Airline_Vistara Premium economy                 uint8\n",
      "Source_Chennai                                  uint8\n",
      "Source_Delhi                                    uint8\n",
      "Source_Kolkata                                  uint8\n",
      "Source_Mumbai                                   uint8\n",
      "Destination_Cochin                              uint8\n",
      "Destination_Delhi                               uint8\n",
      "Destination_Hyderabad                           uint8\n",
      "Destination_Kolkata                             uint8\n",
      "Destination_New Delhi                           uint8\n",
      "Additional_Info_1 Short layover                 uint8\n",
      "Additional_Info_2 Long layover                  uint8\n",
      "Additional_Info_Business class                  uint8\n",
      "Additional_Info_Change airports                 uint8\n",
      "Additional_Info_In-flight meal not included     uint8\n",
      "Additional_Info_No Info                         uint8\n",
      "Additional_Info_No check-in baggage included    uint8\n",
      "Additional_Info_Red-eye flight                  uint8\n",
      "dtype: object\n"
     ]
    }
   ],
   "source": [
    "print(flight.dtypes)"
   ]
  },
  {
   "cell_type": "code",
   "execution_count": 59,
   "id": "2a25ee42",
   "metadata": {},
   "outputs": [],
   "source": [
    "# Separate the features (X) and the target variable (y)\n",
    "X = flight.drop(\"Price\", axis=1)\n",
    "y = flight[\"Price\"]"
   ]
  },
  {
   "cell_type": "code",
   "execution_count": 60,
   "id": "5f325683",
   "metadata": {},
   "outputs": [],
   "source": [
    "# Split the dataset into training and testing sets\n",
    "X_train, X_test, y_train, y_test = train_test_split(X, y, test_size=0.2, random_state=42)"
   ]
  },
  {
   "cell_type": "code",
   "execution_count": 61,
   "id": "8b1df68a",
   "metadata": {},
   "outputs": [],
   "source": [
    "# Linear Regression\n",
    "linear_reg_model = LinearRegression()\n",
    "linear_reg_model.fit(X_train, y_train)\n",
    "linear_reg_predictions = linear_reg_model.predict(X_test)"
   ]
  },
  {
   "cell_type": "code",
   "execution_count": 62,
   "id": "ce7e2438",
   "metadata": {},
   "outputs": [],
   "source": [
    "# Function to evaluate models\n",
    "def evaluate_model(predictions, y_true):\n",
    "    rmse = sqrt(mean_squared_error(y_true, predictions))\n",
    "    r2 = r2_score(y_true, predictions)\n",
    "    return rmse, r2\n"
   ]
  },
  {
   "cell_type": "code",
   "execution_count": 63,
   "id": "385a53e3",
   "metadata": {},
   "outputs": [
    {
     "name": "stdout",
     "output_type": "stream",
     "text": [
      "Linear Regression RMSE: 3913.645633891992\n",
      "Linear Regression R^2: 0.2896492840286986\n"
     ]
    }
   ],
   "source": [
    "# Evaluate Linear Regression model\n",
    "linear_reg_rmse, linear_reg_r2 = evaluate_model(linear_reg_predictions, y_test)\n",
    "print(f\"Linear Regression RMSE: {linear_reg_rmse}\")\n",
    "print(f\"Linear Regression R^2: {linear_reg_r2}\")"
   ]
  },
  {
   "cell_type": "code",
   "execution_count": 64,
   "id": "c2a4a02b",
   "metadata": {},
   "outputs": [],
   "source": [
    "# Decision Tree\n",
    "decision_tree_model = DecisionTreeRegressor()\n",
    "decision_tree_model.fit(X_train, y_train)\n",
    "decision_tree_predictions = decision_tree_model.predict(X_test)"
   ]
  },
  {
   "cell_type": "code",
   "execution_count": 65,
   "id": "cec2a9d3",
   "metadata": {},
   "outputs": [
    {
     "name": "stdout",
     "output_type": "stream",
     "text": [
      "Decision Tree RMSE: 1851.6882643099866\n",
      "Decision Tree R^2: 0.8409822617733737\n"
     ]
    }
   ],
   "source": [
    "# Evaluate Decision Tree model\n",
    "decision_tree_rmse, decision_tree_r2 = evaluate_model(decision_tree_predictions, y_test)\n",
    "print(f\"Decision Tree RMSE: {decision_tree_rmse}\")\n",
    "print(f\"Decision Tree R^2: {decision_tree_r2}\")"
   ]
  },
  {
   "cell_type": "code",
   "execution_count": 66,
   "id": "f396f534",
   "metadata": {},
   "outputs": [],
   "source": [
    "# Random Forest\n",
    "random_forest_model = RandomForestRegressor()\n",
    "random_forest_model.fit(X_train, y_train)\n",
    "random_forest_predictions = random_forest_model.predict(X_test)"
   ]
  },
  {
   "cell_type": "code",
   "execution_count": 67,
   "id": "8ab14843",
   "metadata": {},
   "outputs": [
    {
     "name": "stdout",
     "output_type": "stream",
     "text": [
      "Random Forest RMSE: 1666.3748037099904\n",
      "Random Forest R^2: 0.8712179884565134\n"
     ]
    }
   ],
   "source": [
    "# Evaluate Random Forest model\n",
    "random_forest_rmse, random_forest_r2 = evaluate_model(random_forest_predictions, y_test)\n",
    "print(f\"Random Forest RMSE: {random_forest_rmse}\")\n",
    "print(f\"Random Forest R^2: {random_forest_r2}\")"
   ]
  },
  {
   "cell_type": "code",
   "execution_count": 68,
   "id": "78da9916",
   "metadata": {},
   "outputs": [],
   "source": [
    "# Initialize the Gradient Boosting Regressor\n",
    "gbr_model = GradientBoostingRegressor()"
   ]
  },
  {
   "cell_type": "code",
   "execution_count": 69,
   "id": "7137b914",
   "metadata": {},
   "outputs": [
    {
     "data": {
      "text/html": [
       "<style>#sk-container-id-1 {color: black;}#sk-container-id-1 pre{padding: 0;}#sk-container-id-1 div.sk-toggleable {background-color: white;}#sk-container-id-1 label.sk-toggleable__label {cursor: pointer;display: block;width: 100%;margin-bottom: 0;padding: 0.3em;box-sizing: border-box;text-align: center;}#sk-container-id-1 label.sk-toggleable__label-arrow:before {content: \"▸\";float: left;margin-right: 0.25em;color: #696969;}#sk-container-id-1 label.sk-toggleable__label-arrow:hover:before {color: black;}#sk-container-id-1 div.sk-estimator:hover label.sk-toggleable__label-arrow:before {color: black;}#sk-container-id-1 div.sk-toggleable__content {max-height: 0;max-width: 0;overflow: hidden;text-align: left;background-color: #f0f8ff;}#sk-container-id-1 div.sk-toggleable__content pre {margin: 0.2em;color: black;border-radius: 0.25em;background-color: #f0f8ff;}#sk-container-id-1 input.sk-toggleable__control:checked~div.sk-toggleable__content {max-height: 200px;max-width: 100%;overflow: auto;}#sk-container-id-1 input.sk-toggleable__control:checked~label.sk-toggleable__label-arrow:before {content: \"▾\";}#sk-container-id-1 div.sk-estimator input.sk-toggleable__control:checked~label.sk-toggleable__label {background-color: #d4ebff;}#sk-container-id-1 div.sk-label input.sk-toggleable__control:checked~label.sk-toggleable__label {background-color: #d4ebff;}#sk-container-id-1 input.sk-hidden--visually {border: 0;clip: rect(1px 1px 1px 1px);clip: rect(1px, 1px, 1px, 1px);height: 1px;margin: -1px;overflow: hidden;padding: 0;position: absolute;width: 1px;}#sk-container-id-1 div.sk-estimator {font-family: monospace;background-color: #f0f8ff;border: 1px dotted black;border-radius: 0.25em;box-sizing: border-box;margin-bottom: 0.5em;}#sk-container-id-1 div.sk-estimator:hover {background-color: #d4ebff;}#sk-container-id-1 div.sk-parallel-item::after {content: \"\";width: 100%;border-bottom: 1px solid gray;flex-grow: 1;}#sk-container-id-1 div.sk-label:hover label.sk-toggleable__label {background-color: #d4ebff;}#sk-container-id-1 div.sk-serial::before {content: \"\";position: absolute;border-left: 1px solid gray;box-sizing: border-box;top: 0;bottom: 0;left: 50%;z-index: 0;}#sk-container-id-1 div.sk-serial {display: flex;flex-direction: column;align-items: center;background-color: white;padding-right: 0.2em;padding-left: 0.2em;position: relative;}#sk-container-id-1 div.sk-item {position: relative;z-index: 1;}#sk-container-id-1 div.sk-parallel {display: flex;align-items: stretch;justify-content: center;background-color: white;position: relative;}#sk-container-id-1 div.sk-item::before, #sk-container-id-1 div.sk-parallel-item::before {content: \"\";position: absolute;border-left: 1px solid gray;box-sizing: border-box;top: 0;bottom: 0;left: 50%;z-index: -1;}#sk-container-id-1 div.sk-parallel-item {display: flex;flex-direction: column;z-index: 1;position: relative;background-color: white;}#sk-container-id-1 div.sk-parallel-item:first-child::after {align-self: flex-end;width: 50%;}#sk-container-id-1 div.sk-parallel-item:last-child::after {align-self: flex-start;width: 50%;}#sk-container-id-1 div.sk-parallel-item:only-child::after {width: 0;}#sk-container-id-1 div.sk-dashed-wrapped {border: 1px dashed gray;margin: 0 0.4em 0.5em 0.4em;box-sizing: border-box;padding-bottom: 0.4em;background-color: white;}#sk-container-id-1 div.sk-label label {font-family: monospace;font-weight: bold;display: inline-block;line-height: 1.2em;}#sk-container-id-1 div.sk-label-container {text-align: center;}#sk-container-id-1 div.sk-container {/* jupyter's `normalize.less` sets `[hidden] { display: none; }` but bootstrap.min.css set `[hidden] { display: none !important; }` so we also need the `!important` here to be able to override the default hidden behavior on the sphinx rendered scikit-learn.org. See: https://github.com/scikit-learn/scikit-learn/issues/21755 */display: inline-block !important;position: relative;}#sk-container-id-1 div.sk-text-repr-fallback {display: none;}</style><div id=\"sk-container-id-1\" class=\"sk-top-container\"><div class=\"sk-text-repr-fallback\"><pre>GradientBoostingRegressor()</pre><b>In a Jupyter environment, please rerun this cell to show the HTML representation or trust the notebook. <br />On GitHub, the HTML representation is unable to render, please try loading this page with nbviewer.org.</b></div><div class=\"sk-container\" hidden><div class=\"sk-item\"><div class=\"sk-estimator sk-toggleable\"><input class=\"sk-toggleable__control sk-hidden--visually\" id=\"sk-estimator-id-1\" type=\"checkbox\" checked><label for=\"sk-estimator-id-1\" class=\"sk-toggleable__label sk-toggleable__label-arrow\">GradientBoostingRegressor</label><div class=\"sk-toggleable__content\"><pre>GradientBoostingRegressor()</pre></div></div></div></div></div>"
      ],
      "text/plain": [
       "GradientBoostingRegressor()"
      ]
     },
     "execution_count": 69,
     "metadata": {},
     "output_type": "execute_result"
    }
   ],
   "source": [
    "# Fit the model to the training data\n",
    "gbr_model.fit(X_train, y_train)"
   ]
  },
  {
   "cell_type": "code",
   "execution_count": 70,
   "id": "0eb21cd7",
   "metadata": {},
   "outputs": [],
   "source": [
    "# Make predictions on the test data\n",
    "gbr_predictions = gbr_model.predict(X_test)"
   ]
  },
  {
   "cell_type": "code",
   "execution_count": 71,
   "id": "c99dbde7",
   "metadata": {},
   "outputs": [
    {
     "name": "stdout",
     "output_type": "stream",
     "text": [
      "Gradient Boosting Regressor RMSE: 1845.0970017321479\n",
      "Gradient Boosting Regressor R^2: 0.8421123247885168\n"
     ]
    }
   ],
   "source": [
    "# Evaluate the Gradient Boosting Regressor model\n",
    "gbr_rmse, gbr_r2 = evaluate_model(gbr_predictions, y_test)\n",
    "print(f\"Gradient Boosting Regressor RMSE: {gbr_rmse}\")\n",
    "print(f\"Gradient Boosting Regressor R^2: {gbr_r2}\")"
   ]
  },
  {
   "cell_type": "code",
   "execution_count": 72,
   "id": "d275597b",
   "metadata": {},
   "outputs": [],
   "source": [
    "# Initialize the Extra Trees Regressor\n",
    "extra_trees_model = ExtraTreesRegressor()"
   ]
  },
  {
   "cell_type": "code",
   "execution_count": 73,
   "id": "bfc9ed97",
   "metadata": {},
   "outputs": [
    {
     "data": {
      "text/html": [
       "<style>#sk-container-id-2 {color: black;}#sk-container-id-2 pre{padding: 0;}#sk-container-id-2 div.sk-toggleable {background-color: white;}#sk-container-id-2 label.sk-toggleable__label {cursor: pointer;display: block;width: 100%;margin-bottom: 0;padding: 0.3em;box-sizing: border-box;text-align: center;}#sk-container-id-2 label.sk-toggleable__label-arrow:before {content: \"▸\";float: left;margin-right: 0.25em;color: #696969;}#sk-container-id-2 label.sk-toggleable__label-arrow:hover:before {color: black;}#sk-container-id-2 div.sk-estimator:hover label.sk-toggleable__label-arrow:before {color: black;}#sk-container-id-2 div.sk-toggleable__content {max-height: 0;max-width: 0;overflow: hidden;text-align: left;background-color: #f0f8ff;}#sk-container-id-2 div.sk-toggleable__content pre {margin: 0.2em;color: black;border-radius: 0.25em;background-color: #f0f8ff;}#sk-container-id-2 input.sk-toggleable__control:checked~div.sk-toggleable__content {max-height: 200px;max-width: 100%;overflow: auto;}#sk-container-id-2 input.sk-toggleable__control:checked~label.sk-toggleable__label-arrow:before {content: \"▾\";}#sk-container-id-2 div.sk-estimator input.sk-toggleable__control:checked~label.sk-toggleable__label {background-color: #d4ebff;}#sk-container-id-2 div.sk-label input.sk-toggleable__control:checked~label.sk-toggleable__label {background-color: #d4ebff;}#sk-container-id-2 input.sk-hidden--visually {border: 0;clip: rect(1px 1px 1px 1px);clip: rect(1px, 1px, 1px, 1px);height: 1px;margin: -1px;overflow: hidden;padding: 0;position: absolute;width: 1px;}#sk-container-id-2 div.sk-estimator {font-family: monospace;background-color: #f0f8ff;border: 1px dotted black;border-radius: 0.25em;box-sizing: border-box;margin-bottom: 0.5em;}#sk-container-id-2 div.sk-estimator:hover {background-color: #d4ebff;}#sk-container-id-2 div.sk-parallel-item::after {content: \"\";width: 100%;border-bottom: 1px solid gray;flex-grow: 1;}#sk-container-id-2 div.sk-label:hover label.sk-toggleable__label {background-color: #d4ebff;}#sk-container-id-2 div.sk-serial::before {content: \"\";position: absolute;border-left: 1px solid gray;box-sizing: border-box;top: 0;bottom: 0;left: 50%;z-index: 0;}#sk-container-id-2 div.sk-serial {display: flex;flex-direction: column;align-items: center;background-color: white;padding-right: 0.2em;padding-left: 0.2em;position: relative;}#sk-container-id-2 div.sk-item {position: relative;z-index: 1;}#sk-container-id-2 div.sk-parallel {display: flex;align-items: stretch;justify-content: center;background-color: white;position: relative;}#sk-container-id-2 div.sk-item::before, #sk-container-id-2 div.sk-parallel-item::before {content: \"\";position: absolute;border-left: 1px solid gray;box-sizing: border-box;top: 0;bottom: 0;left: 50%;z-index: -1;}#sk-container-id-2 div.sk-parallel-item {display: flex;flex-direction: column;z-index: 1;position: relative;background-color: white;}#sk-container-id-2 div.sk-parallel-item:first-child::after {align-self: flex-end;width: 50%;}#sk-container-id-2 div.sk-parallel-item:last-child::after {align-self: flex-start;width: 50%;}#sk-container-id-2 div.sk-parallel-item:only-child::after {width: 0;}#sk-container-id-2 div.sk-dashed-wrapped {border: 1px dashed gray;margin: 0 0.4em 0.5em 0.4em;box-sizing: border-box;padding-bottom: 0.4em;background-color: white;}#sk-container-id-2 div.sk-label label {font-family: monospace;font-weight: bold;display: inline-block;line-height: 1.2em;}#sk-container-id-2 div.sk-label-container {text-align: center;}#sk-container-id-2 div.sk-container {/* jupyter's `normalize.less` sets `[hidden] { display: none; }` but bootstrap.min.css set `[hidden] { display: none !important; }` so we also need the `!important` here to be able to override the default hidden behavior on the sphinx rendered scikit-learn.org. See: https://github.com/scikit-learn/scikit-learn/issues/21755 */display: inline-block !important;position: relative;}#sk-container-id-2 div.sk-text-repr-fallback {display: none;}</style><div id=\"sk-container-id-2\" class=\"sk-top-container\"><div class=\"sk-text-repr-fallback\"><pre>ExtraTreesRegressor()</pre><b>In a Jupyter environment, please rerun this cell to show the HTML representation or trust the notebook. <br />On GitHub, the HTML representation is unable to render, please try loading this page with nbviewer.org.</b></div><div class=\"sk-container\" hidden><div class=\"sk-item\"><div class=\"sk-estimator sk-toggleable\"><input class=\"sk-toggleable__control sk-hidden--visually\" id=\"sk-estimator-id-2\" type=\"checkbox\" checked><label for=\"sk-estimator-id-2\" class=\"sk-toggleable__label sk-toggleable__label-arrow\">ExtraTreesRegressor</label><div class=\"sk-toggleable__content\"><pre>ExtraTreesRegressor()</pre></div></div></div></div></div>"
      ],
      "text/plain": [
       "ExtraTreesRegressor()"
      ]
     },
     "execution_count": 73,
     "metadata": {},
     "output_type": "execute_result"
    }
   ],
   "source": [
    "# Fit the model to the training data\n",
    "extra_trees_model.fit(X_train, y_train)"
   ]
  },
  {
   "cell_type": "code",
   "execution_count": 74,
   "id": "808ce3e2",
   "metadata": {},
   "outputs": [],
   "source": [
    "# Make predictions on the test data\n",
    "extra_trees_predictions = extra_trees_model.predict(X_test)"
   ]
  },
  {
   "cell_type": "code",
   "execution_count": 75,
   "id": "efff02c3",
   "metadata": {},
   "outputs": [
    {
     "name": "stdout",
     "output_type": "stream",
     "text": [
      "Extra Trees Regressor RMSE: 1351.659645750403\n",
      "Extra Trees Regressor R^2: 0.9152685731600264\n"
     ]
    }
   ],
   "source": [
    "# Evaluate the Extra Trees Regressor model\n",
    "extra_trees_rmse, extra_trees_r2 = evaluate_model(extra_trees_predictions, y_test)\n",
    "print(f\"Extra Trees Regressor RMSE: {extra_trees_rmse}\")\n",
    "print(f\"Extra Trees Regressor R^2: {extra_trees_r2}\")"
   ]
  },
  {
   "cell_type": "code",
   "execution_count": 76,
   "id": "470d124d",
   "metadata": {},
   "outputs": [],
   "source": [
    "# Initialize the XGBoost Regressor\n",
    "xgb_model = XGBRegressor()"
   ]
  },
  {
   "cell_type": "code",
   "execution_count": 77,
   "id": "ce3c8886",
   "metadata": {},
   "outputs": [
    {
     "data": {
      "text/html": [
       "<style>#sk-container-id-3 {color: black;}#sk-container-id-3 pre{padding: 0;}#sk-container-id-3 div.sk-toggleable {background-color: white;}#sk-container-id-3 label.sk-toggleable__label {cursor: pointer;display: block;width: 100%;margin-bottom: 0;padding: 0.3em;box-sizing: border-box;text-align: center;}#sk-container-id-3 label.sk-toggleable__label-arrow:before {content: \"▸\";float: left;margin-right: 0.25em;color: #696969;}#sk-container-id-3 label.sk-toggleable__label-arrow:hover:before {color: black;}#sk-container-id-3 div.sk-estimator:hover label.sk-toggleable__label-arrow:before {color: black;}#sk-container-id-3 div.sk-toggleable__content {max-height: 0;max-width: 0;overflow: hidden;text-align: left;background-color: #f0f8ff;}#sk-container-id-3 div.sk-toggleable__content pre {margin: 0.2em;color: black;border-radius: 0.25em;background-color: #f0f8ff;}#sk-container-id-3 input.sk-toggleable__control:checked~div.sk-toggleable__content {max-height: 200px;max-width: 100%;overflow: auto;}#sk-container-id-3 input.sk-toggleable__control:checked~label.sk-toggleable__label-arrow:before {content: \"▾\";}#sk-container-id-3 div.sk-estimator input.sk-toggleable__control:checked~label.sk-toggleable__label {background-color: #d4ebff;}#sk-container-id-3 div.sk-label input.sk-toggleable__control:checked~label.sk-toggleable__label {background-color: #d4ebff;}#sk-container-id-3 input.sk-hidden--visually {border: 0;clip: rect(1px 1px 1px 1px);clip: rect(1px, 1px, 1px, 1px);height: 1px;margin: -1px;overflow: hidden;padding: 0;position: absolute;width: 1px;}#sk-container-id-3 div.sk-estimator {font-family: monospace;background-color: #f0f8ff;border: 1px dotted black;border-radius: 0.25em;box-sizing: border-box;margin-bottom: 0.5em;}#sk-container-id-3 div.sk-estimator:hover {background-color: #d4ebff;}#sk-container-id-3 div.sk-parallel-item::after {content: \"\";width: 100%;border-bottom: 1px solid gray;flex-grow: 1;}#sk-container-id-3 div.sk-label:hover label.sk-toggleable__label {background-color: #d4ebff;}#sk-container-id-3 div.sk-serial::before {content: \"\";position: absolute;border-left: 1px solid gray;box-sizing: border-box;top: 0;bottom: 0;left: 50%;z-index: 0;}#sk-container-id-3 div.sk-serial {display: flex;flex-direction: column;align-items: center;background-color: white;padding-right: 0.2em;padding-left: 0.2em;position: relative;}#sk-container-id-3 div.sk-item {position: relative;z-index: 1;}#sk-container-id-3 div.sk-parallel {display: flex;align-items: stretch;justify-content: center;background-color: white;position: relative;}#sk-container-id-3 div.sk-item::before, #sk-container-id-3 div.sk-parallel-item::before {content: \"\";position: absolute;border-left: 1px solid gray;box-sizing: border-box;top: 0;bottom: 0;left: 50%;z-index: -1;}#sk-container-id-3 div.sk-parallel-item {display: flex;flex-direction: column;z-index: 1;position: relative;background-color: white;}#sk-container-id-3 div.sk-parallel-item:first-child::after {align-self: flex-end;width: 50%;}#sk-container-id-3 div.sk-parallel-item:last-child::after {align-self: flex-start;width: 50%;}#sk-container-id-3 div.sk-parallel-item:only-child::after {width: 0;}#sk-container-id-3 div.sk-dashed-wrapped {border: 1px dashed gray;margin: 0 0.4em 0.5em 0.4em;box-sizing: border-box;padding-bottom: 0.4em;background-color: white;}#sk-container-id-3 div.sk-label label {font-family: monospace;font-weight: bold;display: inline-block;line-height: 1.2em;}#sk-container-id-3 div.sk-label-container {text-align: center;}#sk-container-id-3 div.sk-container {/* jupyter's `normalize.less` sets `[hidden] { display: none; }` but bootstrap.min.css set `[hidden] { display: none !important; }` so we also need the `!important` here to be able to override the default hidden behavior on the sphinx rendered scikit-learn.org. See: https://github.com/scikit-learn/scikit-learn/issues/21755 */display: inline-block !important;position: relative;}#sk-container-id-3 div.sk-text-repr-fallback {display: none;}</style><div id=\"sk-container-id-3\" class=\"sk-top-container\"><div class=\"sk-text-repr-fallback\"><pre>XGBRegressor(base_score=None, booster=None, callbacks=None,\n",
       "             colsample_bylevel=None, colsample_bynode=None,\n",
       "             colsample_bytree=None, early_stopping_rounds=None,\n",
       "             enable_categorical=False, eval_metric=None, feature_types=None,\n",
       "             gamma=None, gpu_id=None, grow_policy=None, importance_type=None,\n",
       "             interaction_constraints=None, learning_rate=None, max_bin=None,\n",
       "             max_cat_threshold=None, max_cat_to_onehot=None,\n",
       "             max_delta_step=None, max_depth=None, max_leaves=None,\n",
       "             min_child_weight=None, missing=nan, monotone_constraints=None,\n",
       "             n_estimators=100, n_jobs=None, num_parallel_tree=None,\n",
       "             predictor=None, random_state=None, ...)</pre><b>In a Jupyter environment, please rerun this cell to show the HTML representation or trust the notebook. <br />On GitHub, the HTML representation is unable to render, please try loading this page with nbviewer.org.</b></div><div class=\"sk-container\" hidden><div class=\"sk-item\"><div class=\"sk-estimator sk-toggleable\"><input class=\"sk-toggleable__control sk-hidden--visually\" id=\"sk-estimator-id-3\" type=\"checkbox\" checked><label for=\"sk-estimator-id-3\" class=\"sk-toggleable__label sk-toggleable__label-arrow\">XGBRegressor</label><div class=\"sk-toggleable__content\"><pre>XGBRegressor(base_score=None, booster=None, callbacks=None,\n",
       "             colsample_bylevel=None, colsample_bynode=None,\n",
       "             colsample_bytree=None, early_stopping_rounds=None,\n",
       "             enable_categorical=False, eval_metric=None, feature_types=None,\n",
       "             gamma=None, gpu_id=None, grow_policy=None, importance_type=None,\n",
       "             interaction_constraints=None, learning_rate=None, max_bin=None,\n",
       "             max_cat_threshold=None, max_cat_to_onehot=None,\n",
       "             max_delta_step=None, max_depth=None, max_leaves=None,\n",
       "             min_child_weight=None, missing=nan, monotone_constraints=None,\n",
       "             n_estimators=100, n_jobs=None, num_parallel_tree=None,\n",
       "             predictor=None, random_state=None, ...)</pre></div></div></div></div></div>"
      ],
      "text/plain": [
       "XGBRegressor(base_score=None, booster=None, callbacks=None,\n",
       "             colsample_bylevel=None, colsample_bynode=None,\n",
       "             colsample_bytree=None, early_stopping_rounds=None,\n",
       "             enable_categorical=False, eval_metric=None, feature_types=None,\n",
       "             gamma=None, gpu_id=None, grow_policy=None, importance_type=None,\n",
       "             interaction_constraints=None, learning_rate=None, max_bin=None,\n",
       "             max_cat_threshold=None, max_cat_to_onehot=None,\n",
       "             max_delta_step=None, max_depth=None, max_leaves=None,\n",
       "             min_child_weight=None, missing=nan, monotone_constraints=None,\n",
       "             n_estimators=100, n_jobs=None, num_parallel_tree=None,\n",
       "             predictor=None, random_state=None, ...)"
      ]
     },
     "execution_count": 77,
     "metadata": {},
     "output_type": "execute_result"
    }
   ],
   "source": [
    "# Fit the model to the training data\n",
    "xgb_model.fit(X_train, y_train)"
   ]
  },
  {
   "cell_type": "code",
   "execution_count": 78,
   "id": "33789d16",
   "metadata": {},
   "outputs": [],
   "source": [
    "# Make predictions on the test data\n",
    "xgb_predictions = xgb_model.predict(X_test)"
   ]
  },
  {
   "cell_type": "code",
   "execution_count": 79,
   "id": "59fe07a5",
   "metadata": {},
   "outputs": [
    {
     "name": "stdout",
     "output_type": "stream",
     "text": [
      "XGBoost Regressor RMSE: 1508.9026773295714\n",
      "XGBoost Regressor R^2: 0.8944076921318005\n"
     ]
    }
   ],
   "source": [
    "# Evaluate the XGBoost Regressor model\n",
    "xgb_rmse, xgb_r2 = evaluate_model(xgb_predictions, y_test)\n",
    "print(f\"XGBoost Regressor RMSE: {xgb_rmse}\")\n",
    "print(f\"XGBoost Regressor R^2: {xgb_r2}\")"
   ]
  },
  {
   "cell_type": "code",
   "execution_count": 80,
   "id": "7f10f39e",
   "metadata": {},
   "outputs": [],
   "source": [
    "# Initialize the LGBMRegressor\n",
    "lgbm_model = LGBMRegressor()"
   ]
  },
  {
   "cell_type": "code",
   "execution_count": 81,
   "id": "2569c142",
   "metadata": {},
   "outputs": [
    {
     "name": "stdout",
     "output_type": "stream",
     "text": [
      "[LightGBM] [Warning] Found whitespace in feature_names, replace with underlines\n",
      "[LightGBM] [Warning] Auto-choosing col-wise multi-threading, the overhead of testing was 0.000683 seconds.\n",
      "You can set `force_col_wise=true` to remove the overhead.\n",
      "[LightGBM] [Info] Total Bins 227\n",
      "[LightGBM] [Info] Number of data points in the train set: 8545, number of used features: 29\n",
      "[LightGBM] [Info] Start training from score 9078.336688\n"
     ]
    },
    {
     "data": {
      "text/html": [
       "<style>#sk-container-id-4 {color: black;}#sk-container-id-4 pre{padding: 0;}#sk-container-id-4 div.sk-toggleable {background-color: white;}#sk-container-id-4 label.sk-toggleable__label {cursor: pointer;display: block;width: 100%;margin-bottom: 0;padding: 0.3em;box-sizing: border-box;text-align: center;}#sk-container-id-4 label.sk-toggleable__label-arrow:before {content: \"▸\";float: left;margin-right: 0.25em;color: #696969;}#sk-container-id-4 label.sk-toggleable__label-arrow:hover:before {color: black;}#sk-container-id-4 div.sk-estimator:hover label.sk-toggleable__label-arrow:before {color: black;}#sk-container-id-4 div.sk-toggleable__content {max-height: 0;max-width: 0;overflow: hidden;text-align: left;background-color: #f0f8ff;}#sk-container-id-4 div.sk-toggleable__content pre {margin: 0.2em;color: black;border-radius: 0.25em;background-color: #f0f8ff;}#sk-container-id-4 input.sk-toggleable__control:checked~div.sk-toggleable__content {max-height: 200px;max-width: 100%;overflow: auto;}#sk-container-id-4 input.sk-toggleable__control:checked~label.sk-toggleable__label-arrow:before {content: \"▾\";}#sk-container-id-4 div.sk-estimator input.sk-toggleable__control:checked~label.sk-toggleable__label {background-color: #d4ebff;}#sk-container-id-4 div.sk-label input.sk-toggleable__control:checked~label.sk-toggleable__label {background-color: #d4ebff;}#sk-container-id-4 input.sk-hidden--visually {border: 0;clip: rect(1px 1px 1px 1px);clip: rect(1px, 1px, 1px, 1px);height: 1px;margin: -1px;overflow: hidden;padding: 0;position: absolute;width: 1px;}#sk-container-id-4 div.sk-estimator {font-family: monospace;background-color: #f0f8ff;border: 1px dotted black;border-radius: 0.25em;box-sizing: border-box;margin-bottom: 0.5em;}#sk-container-id-4 div.sk-estimator:hover {background-color: #d4ebff;}#sk-container-id-4 div.sk-parallel-item::after {content: \"\";width: 100%;border-bottom: 1px solid gray;flex-grow: 1;}#sk-container-id-4 div.sk-label:hover label.sk-toggleable__label {background-color: #d4ebff;}#sk-container-id-4 div.sk-serial::before {content: \"\";position: absolute;border-left: 1px solid gray;box-sizing: border-box;top: 0;bottom: 0;left: 50%;z-index: 0;}#sk-container-id-4 div.sk-serial {display: flex;flex-direction: column;align-items: center;background-color: white;padding-right: 0.2em;padding-left: 0.2em;position: relative;}#sk-container-id-4 div.sk-item {position: relative;z-index: 1;}#sk-container-id-4 div.sk-parallel {display: flex;align-items: stretch;justify-content: center;background-color: white;position: relative;}#sk-container-id-4 div.sk-item::before, #sk-container-id-4 div.sk-parallel-item::before {content: \"\";position: absolute;border-left: 1px solid gray;box-sizing: border-box;top: 0;bottom: 0;left: 50%;z-index: -1;}#sk-container-id-4 div.sk-parallel-item {display: flex;flex-direction: column;z-index: 1;position: relative;background-color: white;}#sk-container-id-4 div.sk-parallel-item:first-child::after {align-self: flex-end;width: 50%;}#sk-container-id-4 div.sk-parallel-item:last-child::after {align-self: flex-start;width: 50%;}#sk-container-id-4 div.sk-parallel-item:only-child::after {width: 0;}#sk-container-id-4 div.sk-dashed-wrapped {border: 1px dashed gray;margin: 0 0.4em 0.5em 0.4em;box-sizing: border-box;padding-bottom: 0.4em;background-color: white;}#sk-container-id-4 div.sk-label label {font-family: monospace;font-weight: bold;display: inline-block;line-height: 1.2em;}#sk-container-id-4 div.sk-label-container {text-align: center;}#sk-container-id-4 div.sk-container {/* jupyter's `normalize.less` sets `[hidden] { display: none; }` but bootstrap.min.css set `[hidden] { display: none !important; }` so we also need the `!important` here to be able to override the default hidden behavior on the sphinx rendered scikit-learn.org. See: https://github.com/scikit-learn/scikit-learn/issues/21755 */display: inline-block !important;position: relative;}#sk-container-id-4 div.sk-text-repr-fallback {display: none;}</style><div id=\"sk-container-id-4\" class=\"sk-top-container\"><div class=\"sk-text-repr-fallback\"><pre>LGBMRegressor()</pre><b>In a Jupyter environment, please rerun this cell to show the HTML representation or trust the notebook. <br />On GitHub, the HTML representation is unable to render, please try loading this page with nbviewer.org.</b></div><div class=\"sk-container\" hidden><div class=\"sk-item\"><div class=\"sk-estimator sk-toggleable\"><input class=\"sk-toggleable__control sk-hidden--visually\" id=\"sk-estimator-id-4\" type=\"checkbox\" checked><label for=\"sk-estimator-id-4\" class=\"sk-toggleable__label sk-toggleable__label-arrow\">LGBMRegressor</label><div class=\"sk-toggleable__content\"><pre>LGBMRegressor()</pre></div></div></div></div></div>"
      ],
      "text/plain": [
       "LGBMRegressor()"
      ]
     },
     "execution_count": 81,
     "metadata": {},
     "output_type": "execute_result"
    }
   ],
   "source": [
    "# Fit the model to the training data\n",
    "lgbm_model.fit(X_train, y_train)"
   ]
  },
  {
   "cell_type": "code",
   "execution_count": 82,
   "id": "4da21df2",
   "metadata": {},
   "outputs": [],
   "source": [
    "# Make predictions on the test data\n",
    "lgbm_predictions = lgbm_model.predict(X_test)"
   ]
  },
  {
   "cell_type": "code",
   "execution_count": 83,
   "id": "401a2543",
   "metadata": {},
   "outputs": [
    {
     "name": "stdout",
     "output_type": "stream",
     "text": [
      "LGBMRegressor RMSE: 1668.1415673228005\n",
      "LGBMRegressor R^2: 0.8709447630228122\n"
     ]
    }
   ],
   "source": [
    "# Evaluate the LGBMRegressor model\n",
    "lgbm_rmse, lgbm_r2 = evaluate_model(lgbm_predictions, y_test)\n",
    "print(f\"LGBMRegressor RMSE: {lgbm_rmse}\")\n",
    "print(f\"LGBMRegressor R^2: {lgbm_r2}\")"
   ]
  },
  {
   "cell_type": "code",
   "execution_count": 84,
   "id": "cf5a7b2f",
   "metadata": {},
   "outputs": [
    {
     "name": "stdout",
     "output_type": "stream",
     "text": [
      "Model Comparison:\n",
      "               Model         RMSE       R^2\n",
      "0  Linear Regression  3913.645634  0.289649\n",
      "1      Decision Tree  1851.688264  0.840982\n",
      "2      Random Forest  1666.374804  0.871218\n",
      "3        Extra Trees  1351.659646  0.915269\n",
      "4      LGBMRegressor  1668.141567  0.870945\n",
      "5            XGBoost  1508.902677  0.894408\n",
      "6  Gradient Boosting  1845.097002  0.842112\n",
      "\n",
      "The optimum model is: Extra Trees (based on RMSE)\n"
     ]
    }
   ],
   "source": [
    "# Compare models\n",
    "model_comparison = pd.DataFrame({\n",
    "    'Model': ['Linear Regression', 'Decision Tree', 'Random Forest', 'Extra Trees', 'LGBMRegressor', 'XGBoost', 'Gradient Boosting'],\n",
    "    'RMSE': [linear_reg_rmse, decision_tree_rmse, random_forest_rmse, extra_trees_rmse, lgbm_rmse, xgb_rmse, gbr_rmse],\n",
    "    'R^2': [linear_reg_r2, decision_tree_r2, random_forest_r2, extra_trees_r2, lgbm_r2, xgb_r2, gbr_r2]\n",
    "})\n",
    "\n",
    "# Print model comparison\n",
    "print(\"Model Comparison:\")\n",
    "print(model_comparison)\n",
    "\n",
    "# Justify the choice of the optimum model\n",
    "optimum_model = model_comparison[model_comparison['RMSE'] == model_comparison['RMSE'].min()]['Model'].values[0]\n",
    "print(f\"\\nThe optimum model is: {optimum_model} (based on RMSE)\")\n"
   ]
  },
  {
   "cell_type": "code",
   "execution_count": 85,
   "id": "d648603d",
   "metadata": {},
   "outputs": [],
   "source": [
    "# Define the parameter grid\n",
    "param_grid_gbr = {\n",
    "    'n_estimators': [50, 100, 150],\n",
    "    'learning_rate': [0.01, 0.1, 0.2],\n",
    "    'max_depth': [3, 5, 7]\n",
    "}"
   ]
  },
  {
   "cell_type": "code",
   "execution_count": 86,
   "id": "9210fdc7",
   "metadata": {},
   "outputs": [],
   "source": [
    "# Initialize GridSearchCV for GBR\n",
    "grid_search_gbr = GridSearchCV(GradientBoostingRegressor(random_state=42), param_grid_gbr, cv=5, scoring='neg_mean_squared_error')\n",
    "grid_search_gbr.fit(X_train, y_train)\n",
    "\n",
    "# Get the best hyperparameters\n",
    "best_params_gbr = grid_search_gbr.best_params_"
   ]
  },
  {
   "cell_type": "code",
   "execution_count": 87,
   "id": "68935146",
   "metadata": {},
   "outputs": [],
   "source": [
    "# Use the best model\n",
    "best_gbr_model = grid_search_gbr.best_estimator_\n",
    "best_gbr_predictions = best_gbr_model.predict(X_test)"
   ]
  },
  {
   "cell_type": "code",
   "execution_count": 88,
   "id": "76770f36",
   "metadata": {},
   "outputs": [
    {
     "name": "stdout",
     "output_type": "stream",
     "text": [
      "\n",
      "Best Hyperparameters for Gradient Boosting Regressor: {'learning_rate': 0.2, 'max_depth': 5, 'n_estimators': 150}\n",
      "Best Gradient Boosting Regressor RMSE: 1536.2751662308144\n",
      "Best Gradient Boosting Regressor R^2: 0.8905419153491027\n"
     ]
    }
   ],
   "source": [
    "# Evaluate the best GBR model\n",
    "best_gbr_rmse, best_gbr_r2 = evaluate_model(best_gbr_predictions, y_test)\n",
    "print(\"\\nBest Hyperparameters for Gradient Boosting Regressor:\", best_params_gbr)\n",
    "print(\"Best Gradient Boosting Regressor RMSE:\", best_gbr_rmse)\n",
    "print(\"Best Gradient Boosting Regressor R^2:\", best_gbr_r2)"
   ]
  },
  {
   "cell_type": "code",
   "execution_count": 89,
   "id": "2fa0b112",
   "metadata": {},
   "outputs": [],
   "source": [
    "# Perform cross-validation on the best GBR model\n",
    "cross_val_scores = cross_val_score(best_gbr_model, X_train, y_train, cv=5, scoring='neg_mean_squared_error')"
   ]
  },
  {
   "cell_type": "code",
   "execution_count": 90,
   "id": "72a8108c",
   "metadata": {},
   "outputs": [],
   "source": [
    "# Calculate RMSE from cross-validation scores\n",
    "cross_val_rmse = np.sqrt(-cross_val_scores)"
   ]
  },
  {
   "cell_type": "code",
   "execution_count": 91,
   "id": "91eb6a24",
   "metadata": {},
   "outputs": [
    {
     "name": "stdout",
     "output_type": "stream",
     "text": [
      "\n",
      "Cross-Validation RMSE Scores: [1262.38113477 1509.07771846 1760.75532017 1888.82731081 1480.00018507]\n"
     ]
    }
   ],
   "source": [
    "# Display cross-validation RMSE scores\n",
    "print(\"\\nCross-Validation RMSE Scores:\", cross_val_rmse)"
   ]
  },
  {
   "cell_type": "code",
   "execution_count": 92,
   "id": "1c8b009c",
   "metadata": {},
   "outputs": [
    {
     "name": "stdout",
     "output_type": "stream",
     "text": [
      "Average Cross-Validation RMSE: 1580.2083338530233\n"
     ]
    }
   ],
   "source": [
    "# Display average cross-validation RMSE\n",
    "print(\"Average Cross-Validation RMSE:\", np.mean(cross_val_rmse))"
   ]
  },
  {
   "cell_type": "code",
   "execution_count": 93,
   "id": "fac08209",
   "metadata": {},
   "outputs": [],
   "source": [
    "# Use the best model\n",
    "best_gbr_model = grid_search_gbr.best_estimator_"
   ]
  },
  {
   "cell_type": "code",
   "execution_count": 94,
   "id": "a1b7a16e",
   "metadata": {},
   "outputs": [],
   "source": [
    "# Make predictions on the test data\n",
    "best_gbr_test_predictions = best_gbr_model.predict(X_test)"
   ]
  },
  {
   "cell_type": "code",
   "execution_count": 95,
   "id": "66c88017",
   "metadata": {},
   "outputs": [
    {
     "name": "stdout",
     "output_type": "stream",
     "text": [
      "\n",
      "Best Gradient Boosting Regressor (GBR) Model Performance on Test Data:\n",
      "Test RMSE: 1536.2751662308144\n",
      "Test R^2: 0.8905419153491027\n"
     ]
    }
   ],
   "source": [
    "# Evaluate the best GBR model on the test data\n",
    "best_gbr_test_rmse, best_gbr_test_r2 = evaluate_model(best_gbr_test_predictions, y_test)\n",
    "print(\"\\nBest Gradient Boosting Regressor (GBR) Model Performance on Test Data:\")\n",
    "print(f\"Test RMSE: {best_gbr_test_rmse}\")\n",
    "print(f\"Test R^2: {best_gbr_test_r2}\")"
   ]
  },
  {
   "cell_type": "code",
   "execution_count": 96,
   "id": "eb461c32",
   "metadata": {},
   "outputs": [
    {
     "data": {
      "image/png": "[encoded data removed]",
      "text/plain": [
       "<Figure size 640x480 with 1 Axes>"
      ]
     },
     "metadata": {},
     "output_type": "display_data"
    }
   ],
   "source": [
    "# visualize the predicted vs. actual values on a scatter plot\n",
    "plt.scatter(y_test, best_gbr_test_predictions)\n",
    "plt.xlabel(\"Actual Prices\")\n",
    "plt.ylabel(\"Predicted Prices\")\n",
    "plt.title(\"Actual vs. Predicted Prices (Test Data)\")\n",
    "plt.show()"
   ]
  },
  {
   "cell_type": "code",
   "execution_count": 101,
   "id": "06d04a95",
   "metadata": {},
   "outputs": [],
   "source": [
    "# Define the parameter grid for Extra Trees Regressor\n",
    "param_grid_extra_trees = {\n",
    "    'n_estimators': [50, 100, 150],\n",
    "    'max_depth': [None, 5, 10, 15],\n",
    "    'min_samples_split': [2, 5, 10],\n",
    "    'min_samples_leaf': [1, 2, 4]\n",
    "}"
   ]
  },
  {
   "cell_type": "code",
   "execution_count": 102,
   "id": "aa985fd4",
   "metadata": {},
   "outputs": [
    {
     "data": {
      "text/html": [
       "<style>#sk-container-id-6 {color: black;}#sk-container-id-6 pre{padding: 0;}#sk-container-id-6 div.sk-toggleable {background-color: white;}#sk-container-id-6 label.sk-toggleable__label {cursor: pointer;display: block;width: 100%;margin-bottom: 0;padding: 0.3em;box-sizing: border-box;text-align: center;}#sk-container-id-6 label.sk-toggleable__label-arrow:before {content: \"▸\";float: left;margin-right: 0.25em;color: #696969;}#sk-container-id-6 label.sk-toggleable__label-arrow:hover:before {color: black;}#sk-container-id-6 div.sk-estimator:hover label.sk-toggleable__label-arrow:before {color: black;}#sk-container-id-6 div.sk-toggleable__content {max-height: 0;max-width: 0;overflow: hidden;text-align: left;background-color: #f0f8ff;}#sk-container-id-6 div.sk-toggleable__content pre {margin: 0.2em;color: black;border-radius: 0.25em;background-color: #f0f8ff;}#sk-container-id-6 input.sk-toggleable__control:checked~div.sk-toggleable__content {max-height: 200px;max-width: 100%;overflow: auto;}#sk-container-id-6 input.sk-toggleable__control:checked~label.sk-toggleable__label-arrow:before {content: \"▾\";}#sk-container-id-6 div.sk-estimator input.sk-toggleable__control:checked~label.sk-toggleable__label {background-color: #d4ebff;}#sk-container-id-6 div.sk-label input.sk-toggleable__control:checked~label.sk-toggleable__label {background-color: #d4ebff;}#sk-container-id-6 input.sk-hidden--visually {border: 0;clip: rect(1px 1px 1px 1px);clip: rect(1px, 1px, 1px, 1px);height: 1px;margin: -1px;overflow: hidden;padding: 0;position: absolute;width: 1px;}#sk-container-id-6 div.sk-estimator {font-family: monospace;background-color: #f0f8ff;border: 1px dotted black;border-radius: 0.25em;box-sizing: border-box;margin-bottom: 0.5em;}#sk-container-id-6 div.sk-estimator:hover {background-color: #d4ebff;}#sk-container-id-6 div.sk-parallel-item::after {content: \"\";width: 100%;border-bottom: 1px solid gray;flex-grow: 1;}#sk-container-id-6 div.sk-label:hover label.sk-toggleable__label {background-color: #d4ebff;}#sk-container-id-6 div.sk-serial::before {content: \"\";position: absolute;border-left: 1px solid gray;box-sizing: border-box;top: 0;bottom: 0;left: 50%;z-index: 0;}#sk-container-id-6 div.sk-serial {display: flex;flex-direction: column;align-items: center;background-color: white;padding-right: 0.2em;padding-left: 0.2em;position: relative;}#sk-container-id-6 div.sk-item {position: relative;z-index: 1;}#sk-container-id-6 div.sk-parallel {display: flex;align-items: stretch;justify-content: center;background-color: white;position: relative;}#sk-container-id-6 div.sk-item::before, #sk-container-id-6 div.sk-parallel-item::before {content: \"\";position: absolute;border-left: 1px solid gray;box-sizing: border-box;top: 0;bottom: 0;left: 50%;z-index: -1;}#sk-container-id-6 div.sk-parallel-item {display: flex;flex-direction: column;z-index: 1;position: relative;background-color: white;}#sk-container-id-6 div.sk-parallel-item:first-child::after {align-self: flex-end;width: 50%;}#sk-container-id-6 div.sk-parallel-item:last-child::after {align-self: flex-start;width: 50%;}#sk-container-id-6 div.sk-parallel-item:only-child::after {width: 0;}#sk-container-id-6 div.sk-dashed-wrapped {border: 1px dashed gray;margin: 0 0.4em 0.5em 0.4em;box-sizing: border-box;padding-bottom: 0.4em;background-color: white;}#sk-container-id-6 div.sk-label label {font-family: monospace;font-weight: bold;display: inline-block;line-height: 1.2em;}#sk-container-id-6 div.sk-label-container {text-align: center;}#sk-container-id-6 div.sk-container {/* jupyter's `normalize.less` sets `[hidden] { display: none; }` but bootstrap.min.css set `[hidden] { display: none !important; }` so we also need the `!important` here to be able to override the default hidden behavior on the sphinx rendered scikit-learn.org. See: https://github.com/scikit-learn/scikit-learn/issues/21755 */display: inline-block !important;position: relative;}#sk-container-id-6 div.sk-text-repr-fallback {display: none;}</style><div id=\"sk-container-id-6\" class=\"sk-top-container\"><div class=\"sk-text-repr-fallback\"><pre>GridSearchCV(cv=5, estimator=ExtraTreesRegressor(random_state=42),\n",
       "             param_grid={&#x27;max_depth&#x27;: [None, 5, 10, 15],\n",
       "                         &#x27;min_samples_leaf&#x27;: [1, 2, 4],\n",
       "                         &#x27;min_samples_split&#x27;: [2, 5, 10],\n",
       "                         &#x27;n_estimators&#x27;: [50, 100, 150]},\n",
       "             scoring=&#x27;neg_mean_squared_error&#x27;)</pre><b>In a Jupyter environment, please rerun this cell to show the HTML representation or trust the notebook. <br />On GitHub, the HTML representation is unable to render, please try loading this page with nbviewer.org.</b></div><div class=\"sk-container\" hidden><div class=\"sk-item sk-dashed-wrapped\"><div class=\"sk-label-container\"><div class=\"sk-label sk-toggleable\"><input class=\"sk-toggleable__control sk-hidden--visually\" id=\"sk-estimator-id-6\" type=\"checkbox\" ><label for=\"sk-estimator-id-6\" class=\"sk-toggleable__label sk-toggleable__label-arrow\">GridSearchCV</label><div class=\"sk-toggleable__content\"><pre>GridSearchCV(cv=5, estimator=ExtraTreesRegressor(random_state=42),\n",
       "             param_grid={&#x27;max_depth&#x27;: [None, 5, 10, 15],\n",
       "                         &#x27;min_samples_leaf&#x27;: [1, 2, 4],\n",
       "                         &#x27;min_samples_split&#x27;: [2, 5, 10],\n",
       "                         &#x27;n_estimators&#x27;: [50, 100, 150]},\n",
       "             scoring=&#x27;neg_mean_squared_error&#x27;)</pre></div></div></div><div class=\"sk-parallel\"><div class=\"sk-parallel-item\"><div class=\"sk-item\"><div class=\"sk-label-container\"><div class=\"sk-label sk-toggleable\"><input class=\"sk-toggleable__control sk-hidden--visually\" id=\"sk-estimator-id-7\" type=\"checkbox\" ><label for=\"sk-estimator-id-7\" class=\"sk-toggleable__label sk-toggleable__label-arrow\">estimator: ExtraTreesRegressor</label><div class=\"sk-toggleable__content\"><pre>ExtraTreesRegressor(random_state=42)</pre></div></div></div><div class=\"sk-serial\"><div class=\"sk-item\"><div class=\"sk-estimator sk-toggleable\"><input class=\"sk-toggleable__control sk-hidden--visually\" id=\"sk-estimator-id-8\" type=\"checkbox\" ><label for=\"sk-estimator-id-8\" class=\"sk-toggleable__label sk-toggleable__label-arrow\">ExtraTreesRegressor</label><div class=\"sk-toggleable__content\"><pre>ExtraTreesRegressor(random_state=42)</pre></div></div></div></div></div></div></div></div></div></div>"
      ],
      "text/plain": [
       "GridSearchCV(cv=5, estimator=ExtraTreesRegressor(random_state=42),\n",
       "             param_grid={'max_depth': [None, 5, 10, 15],\n",
       "                         'min_samples_leaf': [1, 2, 4],\n",
       "                         'min_samples_split': [2, 5, 10],\n",
       "                         'n_estimators': [50, 100, 150]},\n",
       "             scoring='neg_mean_squared_error')"
      ]
     },
     "execution_count": 102,
     "metadata": {},
     "output_type": "execute_result"
    }
   ],
   "source": [
    "# Initialize GridSearchCV for Extra Trees Regressor\n",
    "grid_search_extra_trees = GridSearchCV(ExtraTreesRegressor(random_state=42), param_grid_extra_trees, cv=5, scoring='neg_mean_squared_error')\n",
    "grid_search_extra_trees.fit(X_train, y_train)"
   ]
  },
  {
   "cell_type": "code",
   "execution_count": 103,
   "id": "8dc09922",
   "metadata": {},
   "outputs": [],
   "source": [
    "# Get the best hyperparameters for Extra Trees Regressor\n",
    "best_params_extra_trees = grid_search_extra_trees.best_params_"
   ]
  },
  {
   "cell_type": "code",
   "execution_count": 104,
   "id": "62159afd",
   "metadata": {},
   "outputs": [],
   "source": [
    "# Use the best Extra Trees model\n",
    "best_extra_trees_model = grid_search_extra_trees.best_estimator_\n",
    "best_extra_trees_predictions = best_extra_trees_model.predict(X_test)"
   ]
  },
  {
   "cell_type": "code",
   "execution_count": 105,
   "id": "7702b34c",
   "metadata": {},
   "outputs": [],
   "source": [
    "# Evaluate the best Extra Trees model\n",
    "best_extra_trees_rmse = mean_squared_error(y_test, best_extra_trees_predictions, squared=False)\n",
    "best_extra_trees_r2 = r2_score(y_test, best_extra_trees_predictions)"
   ]
  },
  {
   "cell_type": "code",
   "execution_count": 106,
   "id": "ac95481d",
   "metadata": {},
   "outputs": [
    {
     "name": "stdout",
     "output_type": "stream",
     "text": [
      "\n",
      "Best Hyperparameters for Extra Trees Regressor: {'max_depth': None, 'min_samples_leaf': 1, 'min_samples_split': 5, 'n_estimators': 150}\n",
      "Best Extra Trees Regressor RMSE: 1317.5530887717089\n",
      "Best Extra Trees Regressor R^2: 0.9194906962659855\n"
     ]
    }
   ],
   "source": [
    "print(\"\\nBest Hyperparameters for Extra Trees Regressor:\", best_params_extra_trees)\n",
    "print(\"Best Extra Trees Regressor RMSE:\", best_extra_trees_rmse)\n",
    "print(\"Best Extra Trees Regressor R^2:\", best_extra_trees_r2)"
   ]
  },
  {
   "cell_type": "code",
   "execution_count": 107,
   "id": "94bb9fad",
   "metadata": {},
   "outputs": [
    {
     "data": {
      "image/png": "[encoded data removed]",
      "text/plain": [
       "<Figure size 640x480 with 1 Axes>"
      ]
     },
     "metadata": {},
     "output_type": "display_data"
    }
   ],
   "source": [
    "# Optionally, you can visualize the predicted vs. actual values on a scatter plot\n",
    "plt.scatter(y_test, best_extra_trees_predictions)\n",
    "plt.xlabel(\"Actual Prices\")\n",
    "plt.ylabel(\"Predicted Prices\")\n",
    "plt.title(\"Actual vs. Predicted Prices (Test Data)\")\n",
    "plt.show()"
   ]
  },
  {
   "cell_type": "markdown",
   "id": "0a410b5c",
   "metadata": {},
   "source": [
    "# Conclusion from the business point of view.\n",
    "1. **Choosing the Best Model:**\n",
    "   - We evaluated various models to predict flight prices.\n",
    "   - The winner is a model called \"Extra Trees,\" which is excellent at making accurate predictions.\n",
    "\n",
    "2. **Why Extra Trees?**\n",
    "   - This model gives us the smallest errors in predicting prices (RMSE) and understands a significant part of what influences these prices (R^2).\n",
    "   - In simpler terms, it's like having a very reliable crystal ball for predicting flight costs.\n",
    "\n",
    "3. **Why Does It Matter for Business?**\n",
    "   - For a travel business, predicting flight prices accurately is crucial.\n",
    "   - The Extra Trees model helps us set the right prices for flights, ensuring competitiveness and maximizing profits.\n",
    "\n",
    "4. **What Does It Mean for Decision-Making?**\n",
    "   - The model insights can guide us in planning routes and developing effective marketing strategies.\n",
    "   - We can tailor pricing based on factors that significantly impact flight costs, helping us make informed decisions.\n",
    "\n",
    "5. **Continuous Improvement:**\n",
    "   - Just like how we regularly update our plans, this model needs regular check-ins and updates to stay effective.\n",
    "   - It's like keeping our crystal ball polished and accurate over time.\n",
    "\n",
    "6. **How Can It Benefit Our Business?**\n",
    "   - Using this model can enhance our pricing strategies, leading to better profitability.\n",
    "   - It provides a data-driven approach to decision-making, making our business operations more efficient.\n",
    "\n",
    "In essence, the Extra Trees model acts as a powerful tool that allows us to navigate the complex landscape of flight pricing with confidence, making decisions that positively impact our business's bottom line. It's like having a reliable guide that helps us steer our business in the right direction, ensuring we stay competitive and successful in the ever-changing world of the travel industry."
   ]
  }
 ],
 "metadata": {
  "kernelspec": {
   "display_name": "Python 3 (ipykernel)",
   "language": "python",
   "name": "python3"
  },
  "language_info": {
   "codemirror_mode": {
    "name": "ipython",
    "version": 3
   },
   "file_extension": ".py",
   "mimetype": "text/x-python",
   "name": "python",
   "nbconvert_exporter": "python",
   "pygments_lexer": "ipython3",
   "version": "3.11.4"
  }
 },
 "nbformat": 4,
 "nbformat_minor": 5
}
